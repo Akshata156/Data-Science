{
 "cells": [
  {
   "cell_type": "markdown",
   "id": "e4755ab7-7ac4-45ae-bd0d-c3b25a900159",
   "metadata": {},
   "source": [
    "## RECOMMEDATION SYSTEM\n",
    "Data Description:\r\n",
    "\r\n",
    "Unique ID of each anime.\r\n",
    "Anime title.\r\n",
    "Anime broadcast type, such as TV, OVA, etc.\r\n",
    "anime genre.\r\n",
    "The number of episodes of each anime.\r\n",
    "The average rating for each anime compared to the number of users who gave ratings.\r\n",
    "\r\n",
    "\r\n",
    "Number of community members for each anime.\r\n",
    "Objective:\r\n",
    "The objective of this assignment is to implement a recommendation system using cosine similarity on an anime dataset. \r\n",
    "Dataset:\r\n",
    "Use the Anime Dataset which contains information about various anime, including their titles, genres,No.of episodes and user ratings etc.\r\n"
   ]
  },
  {
   "cell_type": "markdown",
   "id": "3f0fde23-7f8c-48c7-84b0-4ab296c8b50f",
   "metadata": {},
   "source": [
    "Tasks:\r\n",
    "\r\n",
    "Data Preprocessing:\r\n",
    "\r\n",
    "Load the dataset into a suitable data structure (e.g., pandas DataFrame).\r\n",
    "Handle missing values, if any.\r\n",
    "Explore the dataset to understand its structure and attributes.\r\n"
   ]
  },
  {
   "cell_type": "code",
   "execution_count": 20,
   "id": "542bcbd1-b0e4-40b2-b270-fcc1bb03ea47",
   "metadata": {},
   "outputs": [
    {
     "data": {
      "text/html": [
       "<div>\n",
       "<style scoped>\n",
       "    .dataframe tbody tr th:only-of-type {\n",
       "        vertical-align: middle;\n",
       "    }\n",
       "\n",
       "    .dataframe tbody tr th {\n",
       "        vertical-align: top;\n",
       "    }\n",
       "\n",
       "    .dataframe thead th {\n",
       "        text-align: right;\n",
       "    }\n",
       "</style>\n",
       "<table border=\"1\" class=\"dataframe\">\n",
       "  <thead>\n",
       "    <tr style=\"text-align: right;\">\n",
       "      <th></th>\n",
       "      <th>anime_id</th>\n",
       "      <th>name</th>\n",
       "      <th>genre</th>\n",
       "      <th>type</th>\n",
       "      <th>episodes</th>\n",
       "      <th>rating</th>\n",
       "      <th>members</th>\n",
       "    </tr>\n",
       "  </thead>\n",
       "  <tbody>\n",
       "    <tr>\n",
       "      <th>0</th>\n",
       "      <td>32281</td>\n",
       "      <td>Kimi no Na wa.</td>\n",
       "      <td>Drama, Romance, School, Supernatural</td>\n",
       "      <td>Movie</td>\n",
       "      <td>1</td>\n",
       "      <td>9.37</td>\n",
       "      <td>200630</td>\n",
       "    </tr>\n",
       "    <tr>\n",
       "      <th>1</th>\n",
       "      <td>5114</td>\n",
       "      <td>Fullmetal Alchemist: Brotherhood</td>\n",
       "      <td>Action, Adventure, Drama, Fantasy, Magic, Mili...</td>\n",
       "      <td>TV</td>\n",
       "      <td>64</td>\n",
       "      <td>9.26</td>\n",
       "      <td>793665</td>\n",
       "    </tr>\n",
       "    <tr>\n",
       "      <th>2</th>\n",
       "      <td>28977</td>\n",
       "      <td>Gintama°</td>\n",
       "      <td>Action, Comedy, Historical, Parody, Samurai, S...</td>\n",
       "      <td>TV</td>\n",
       "      <td>51</td>\n",
       "      <td>9.25</td>\n",
       "      <td>114262</td>\n",
       "    </tr>\n",
       "    <tr>\n",
       "      <th>3</th>\n",
       "      <td>9253</td>\n",
       "      <td>Steins;Gate</td>\n",
       "      <td>Sci-Fi, Thriller</td>\n",
       "      <td>TV</td>\n",
       "      <td>24</td>\n",
       "      <td>9.17</td>\n",
       "      <td>673572</td>\n",
       "    </tr>\n",
       "    <tr>\n",
       "      <th>4</th>\n",
       "      <td>9969</td>\n",
       "      <td>Gintama&amp;#039;</td>\n",
       "      <td>Action, Comedy, Historical, Parody, Samurai, S...</td>\n",
       "      <td>TV</td>\n",
       "      <td>51</td>\n",
       "      <td>9.16</td>\n",
       "      <td>151266</td>\n",
       "    </tr>\n",
       "  </tbody>\n",
       "</table>\n",
       "</div>"
      ],
      "text/plain": [
       "   anime_id                              name  \\\n",
       "0     32281                    Kimi no Na wa.   \n",
       "1      5114  Fullmetal Alchemist: Brotherhood   \n",
       "2     28977                          Gintama°   \n",
       "3      9253                       Steins;Gate   \n",
       "4      9969                     Gintama&#039;   \n",
       "\n",
       "                                               genre   type episodes  rating  \\\n",
       "0               Drama, Romance, School, Supernatural  Movie        1    9.37   \n",
       "1  Action, Adventure, Drama, Fantasy, Magic, Mili...     TV       64    9.26   \n",
       "2  Action, Comedy, Historical, Parody, Samurai, S...     TV       51    9.25   \n",
       "3                                   Sci-Fi, Thriller     TV       24    9.17   \n",
       "4  Action, Comedy, Historical, Parody, Samurai, S...     TV       51    9.16   \n",
       "\n",
       "   members  \n",
       "0   200630  \n",
       "1   793665  \n",
       "2   114262  \n",
       "3   673572  \n",
       "4   151266  "
      ]
     },
     "execution_count": 20,
     "metadata": {},
     "output_type": "execute_result"
    }
   ],
   "source": [
    "import pandas as pd\n",
    "df=pd.read_csv(r\"C:\\Users\\Akshata\\OneDrive\\Desktop\\Assignment\\Recommendation System\\anime.csv\")\n",
    "df.head()"
   ]
  },
  {
   "cell_type": "code",
   "execution_count": 18,
   "id": "633b35fc-4482-49c3-93af-879169f4264e",
   "metadata": {},
   "outputs": [
    {
     "name": "stdout",
     "output_type": "stream",
     "text": [
      "<class 'pandas.core.frame.DataFrame'>\n",
      "RangeIndex: 12294 entries, 0 to 12293\n",
      "Data columns (total 7 columns):\n",
      " #   Column    Non-Null Count  Dtype  \n",
      "---  ------    --------------  -----  \n",
      " 0   anime_id  12294 non-null  int64  \n",
      " 1   name      12294 non-null  object \n",
      " 2   genre     12294 non-null  object \n",
      " 3   type      12294 non-null  object \n",
      " 4   episodes  11954 non-null  float64\n",
      " 5   rating    12294 non-null  float64\n",
      " 6   members   12294 non-null  int64  \n",
      "dtypes: float64(2), int64(2), object(3)\n",
      "memory usage: 672.5+ KB\n"
     ]
    }
   ],
   "source": [
    "df.info()"
   ]
  },
  {
   "cell_type": "code",
   "execution_count": 5,
   "id": "ab871d90-935c-446f-963d-4276ad91ece3",
   "metadata": {},
   "outputs": [
    {
     "data": {
      "text/plain": [
       "anime_id      0\n",
       "name          0\n",
       "genre        62\n",
       "type         25\n",
       "episodes      0\n",
       "rating      230\n",
       "members       0\n",
       "dtype: int64"
      ]
     },
     "execution_count": 5,
     "metadata": {},
     "output_type": "execute_result"
    }
   ],
   "source": [
    "df.isnull().sum()"
   ]
  },
  {
   "cell_type": "code",
   "execution_count": 31,
   "id": "8ef51b7e-f977-4166-9477-bcaf5f02b4b0",
   "metadata": {},
   "outputs": [
    {
     "name": "stdout",
     "output_type": "stream",
     "text": [
      "<class 'pandas.core.frame.DataFrame'>\n",
      "RangeIndex: 12294 entries, 0 to 12293\n",
      "Data columns (total 7 columns):\n",
      " #   Column    Non-Null Count  Dtype  \n",
      "---  ------    --------------  -----  \n",
      " 0   anime_id  12294 non-null  int64  \n",
      " 1   name      12294 non-null  object \n",
      " 2   genre     12294 non-null  object \n",
      " 3   type      12294 non-null  object \n",
      " 4   episodes  11954 non-null  float64\n",
      " 5   rating    12294 non-null  float64\n",
      " 6   members   12294 non-null  int64  \n",
      "dtypes: float64(2), int64(2), object(3)\n",
      "memory usage: 672.5+ KB\n"
     ]
    },
    {
     "data": {
      "text/plain": [
       "(None,\n",
       "    anime_id                              name  \\\n",
       " 0     32281                    Kimi no Na wa.   \n",
       " 1      5114  Fullmetal Alchemist: Brotherhood   \n",
       " 2     28977                          Gintama°   \n",
       " 3      9253                       Steins;Gate   \n",
       " 4      9969                     Gintama&#039;   \n",
       " \n",
       "                                                genre   type  episodes  rating  \\\n",
       " 0               Drama, Romance, School, Supernatural  Movie       1.0    9.37   \n",
       " 1  Action, Adventure, Drama, Fantasy, Magic, Mili...     TV      64.0    9.26   \n",
       " 2  Action, Comedy, Historical, Parody, Samurai, S...     TV      51.0    9.25   \n",
       " 3                                   Sci-Fi, Thriller     TV      24.0    9.17   \n",
       " 4  Action, Comedy, Historical, Parody, Samurai, S...     TV      51.0    9.16   \n",
       " \n",
       "    members  \n",
       " 0   200630  \n",
       " 1   793665  \n",
       " 2   114262  \n",
       " 3   673572  \n",
       " 4   151266  )"
      ]
     },
     "execution_count": 31,
     "metadata": {},
     "output_type": "execute_result"
    }
   ],
   "source": [
    "# Handling missing values and fixing the 'episodes' column\n",
    "\n",
    "# Replace 'Unknown' or other non-numeric values in 'episodes' with NaN, then convert to numeric\n",
    "df['episodes'] = pd.to_numeric(df['episodes'], errors='coerce')\n",
    "\n",
    "# Fill missing values for 'genre' and 'type' with 'Unknown', and for 'rating' with the mean rating\n",
    "df['genre']=df['genre'].fillna('Unknown')\n",
    "df['type']=df['type'].fillna('Unknown')\n",
    "df['rating']=df['rating'].fillna(df['rating'].mean())\n",
    "\n",
    "# Checking the updated dataset info and first few rows to confirm changes\n",
    "df.info(), df.head()\n"
   ]
  },
  {
   "cell_type": "code",
   "execution_count": 33,
   "id": "0fb31d89-19e5-485b-b126-0a842416dce2",
   "metadata": {},
   "outputs": [
    {
     "name": "stdout",
     "output_type": "stream",
     "text": [
      "\n",
      "Missing values after handling:\n",
      "anime_id      0\n",
      "name          0\n",
      "genre         0\n",
      "type          0\n",
      "episodes    340\n",
      "rating        0\n",
      "members       0\n",
      "dtype: int64\n"
     ]
    }
   ],
   "source": [
    "# Summary of missing values after handling\n",
    "print(\"\\nMissing values after handling:\")\n",
    "print(df.isnull().sum())"
   ]
  },
  {
   "cell_type": "code",
   "execution_count": 35,
   "id": "4390e370-63a2-4cb8-89b7-9b4e7401470f",
   "metadata": {},
   "outputs": [
    {
     "name": "stdout",
     "output_type": "stream",
     "text": [
      "\n",
      "Statistical summary of the dataset:\n",
      "            anime_id                     name   genre   type      episodes  \\\n",
      "count   12294.000000                    12294   12294  12294  11954.000000   \n",
      "unique           NaN                    12292    3265      7           NaN   \n",
      "top              NaN  Shi Wan Ge Leng Xiaohua  Hentai     TV           NaN   \n",
      "freq             NaN                        2     823   3787           NaN   \n",
      "mean    14058.221653                      NaN     NaN    NaN     12.382550   \n",
      "std     11455.294701                      NaN     NaN    NaN     46.865352   \n",
      "min         1.000000                      NaN     NaN    NaN      1.000000   \n",
      "25%      3484.250000                      NaN     NaN    NaN      1.000000   \n",
      "50%     10260.500000                      NaN     NaN    NaN      2.000000   \n",
      "75%     24794.500000                      NaN     NaN    NaN     12.000000   \n",
      "max     34527.000000                      NaN     NaN    NaN   1818.000000   \n",
      "\n",
      "              rating       members  \n",
      "count   12294.000000  1.229400e+04  \n",
      "unique           NaN           NaN  \n",
      "top              NaN           NaN  \n",
      "freq             NaN           NaN  \n",
      "mean        6.473902  1.807134e+04  \n",
      "std         1.017096  5.482068e+04  \n",
      "min         1.670000  5.000000e+00  \n",
      "25%         5.900000  2.250000e+02  \n",
      "50%         6.550000  1.550000e+03  \n",
      "75%         7.170000  9.437000e+03  \n",
      "max        10.000000  1.013917e+06  \n"
     ]
    }
   ],
   "source": [
    "# Exploring the dataset structure - statistical summary\n",
    "print(\"\\nStatistical summary of the dataset:\")\n",
    "print(df.describe(include='all'))"
   ]
  },
  {
   "cell_type": "code",
   "execution_count": 37,
   "id": "e5e7277c-852c-465d-b4ee-dc1a1b1c13ab",
   "metadata": {},
   "outputs": [
    {
     "data": {
      "text/plain": [
       "anime_id      0\n",
       "name          0\n",
       "genre         0\n",
       "type          0\n",
       "episodes    340\n",
       "rating        0\n",
       "members       0\n",
       "dtype: int64"
      ]
     },
     "execution_count": 37,
     "metadata": {},
     "output_type": "execute_result"
    }
   ],
   "source": [
    "df.isnull().sum()"
   ]
  },
  {
   "cell_type": "code",
   "execution_count": 41,
   "id": "57bc5a64-56f3-44ed-808a-2696152fde7e",
   "metadata": {},
   "outputs": [
    {
     "data": {
      "text/plain": [
       "anime_id      int64\n",
       "name         object\n",
       "genre        object\n",
       "type         object\n",
       "episodes    float64\n",
       "rating      float64\n",
       "members       int64\n",
       "dtype: object"
      ]
     },
     "execution_count": 41,
     "metadata": {},
     "output_type": "execute_result"
    }
   ],
   "source": [
    "df.dtypes"
   ]
  },
  {
   "cell_type": "markdown",
   "id": "eda35ce8-51af-4c86-8165-6ee7f12ab593",
   "metadata": {},
   "source": [
    "Feature Extraction:\r\n",
    "\r\n",
    "Decide on the features that will be used for computing similarity (e.g., genres, user ratings).\r\n",
    "Convert categorical features into numerical representations if necessary.\r\n",
    "Normalize numerical features if required.\r\n"
   ]
  },
  {
   "cell_type": "code",
   "execution_count": 48,
   "id": "a2424b24-4d40-4fc0-ba7e-30b5fd18c816",
   "metadata": {},
   "outputs": [
    {
     "name": "stdout",
     "output_type": "stream",
     "text": [
      "Final Feature Set for Cosine Similarity:\n",
      "          0         1    2    3    4         5    6    7         8    9  ...  \\\n",
      "0  0.000000  0.000000  0.0  0.0  0.0  0.000000  0.0  0.0  0.406427  0.0  ...   \n",
      "1  0.285137  0.307353  0.0  0.0  0.0  0.000000  0.0  0.0  0.324992  0.0  ...   \n",
      "2  0.244698  0.000000  0.0  0.0  0.0  0.196013  0.0  0.0  0.000000  0.0  ...   \n",
      "3  0.000000  0.000000  0.0  0.0  0.0  0.000000  0.0  0.0  0.000000  0.0  ...   \n",
      "4  0.244698  0.000000  0.0  0.0  0.0  0.196013  0.0  0.0  0.000000  0.0  ...   \n",
      "\n",
      "    44        45        46        47   48   49   50   51  rating_norm  \\\n",
      "0  0.0  0.502594  0.000000  0.000000  0.0  0.0  0.0  0.0     0.924370   \n",
      "1  0.0  0.000000  0.000000  0.252040  0.0  0.0  0.0  0.0     0.911164   \n",
      "2  0.0  0.000000  0.000000  0.216295  0.0  0.0  0.0  0.0     0.909964   \n",
      "3  0.0  0.000000  0.797356  0.292296  0.0  0.0  0.0  0.0     0.900360   \n",
      "4  0.0  0.000000  0.000000  0.216295  0.0  0.0  0.0  0.0     0.899160   \n",
      "\n",
      "   episodes_norm  \n",
      "0       0.000000  \n",
      "1       0.034673  \n",
      "2       0.027518  \n",
      "3       0.012658  \n",
      "4       0.027518  \n",
      "\n",
      "[5 rows x 54 columns]\n"
     ]
    }
   ],
   "source": [
    "from sklearn.feature_extraction.text import TfidfVectorizer\n",
    "from sklearn.preprocessing import MinMaxScaler\n",
    "import pandas as pd\n",
    "\n",
    "# Step 1: Feature Extraction\n",
    "\n",
    "# Using 'genre' and 'type' as categorical features\n",
    "# Combine 'genre' and 'type' for text vectorization\n",
    "df['combined_features'] = df['genre'] + ' ' + df['type']\n",
    "\n",
    "# Step 2: Convert Categorical Features into Numerical Representations\n",
    "# Initialize TfidfVectorizer for text features\n",
    "tfidf = TfidfVectorizer(stop_words='english')\n",
    "\n",
    "# Apply TF-IDF on the combined features\n",
    "tfidf_matrix = tfidf.fit_transform(df['combined_features'])\n",
    "\n",
    "# Step 3: Normalize Numerical Features (e.g., 'rating' and 'episodes')\n",
    "# Replace NaN values in 'episodes' with the mean before normalization\n",
    "df['episodes'] = df['episodes'].fillna(df['episodes'].mean())\n",
    "\n",
    "# Select numerical columns for normalization\n",
    "numerical_features = df[['rating', 'episodes']]\n",
    "\n",
    "# Normalize numerical features using MinMaxScaler\n",
    "scaler = MinMaxScaler()\n",
    "normalized_numerical_features = scaler.fit_transform(numerical_features)\n",
    "\n",
    "# Step 4: Combine All Features (TF-IDF + Normalized Numerical Features)\n",
    "# Convert the TF-IDF matrix to a DataFrame and append the normalized numerical features\n",
    "tfidf_df = pd.DataFrame(tfidf_matrix.toarray(), index=df.index)\n",
    "normalized_numerical_df = pd.DataFrame(normalized_numerical_features, columns=['rating_norm', 'episodes_norm'])\n",
    "\n",
    "# Concatenate the TF-IDF features and normalized numerical features\n",
    "final_features = pd.concat([tfidf_df, normalized_numerical_df], axis=1)\n",
    "\n",
    "# Display the combined feature set\n",
    "print(\"Final Feature Set for Cosine Similarity:\")\n",
    "print(final_features.head())\n"
   ]
  },
  {
   "cell_type": "markdown",
   "id": "13dac8c0-4426-497b-a294-86c60ba08538",
   "metadata": {},
   "source": [
    "Recommendation System:\r\n",
    "\r\n",
    "Design a function to recommend anime based on cosine similarity.\r\n",
    "Given a target anime, recommend a list of similar anime based on cosine similarity scores.\r\n",
    "Experiment with different threshold values for similarity scores to adjust the recommendation list size."
   ]
  },
  {
   "cell_type": "code",
   "execution_count": 55,
   "id": "3cc2d959-3f5f-429f-9815-5aac61765cef",
   "metadata": {},
   "outputs": [
    {
     "name": "stdout",
     "output_type": "stream",
     "text": [
      "Recommended Anime:\n",
      "['Aura: Maryuuin Kouga Saigo no Tatakai', 'Harmonie', 'Kokoro ga Sakebitagatterunda.', 'Air Movie', 'Wind: A Breath of Heart OVA', 'Wind: A Breath of Heart (TV)', 'Suki ni Naru Sono Shunkan wo.: Kokuhaku Jikkou Iinkai', 'Clannad Movie', 'Shakugan no Shana II (Second)', 'Shakugan no Shana']\n"
     ]
    }
   ],
   "source": [
    "from sklearn.metrics.pairwise import cosine_similarity\n",
    "\n",
    "# Compute cosine similarity matrix using the final feature set\n",
    "cosine_sim = cosine_similarity(final_features)\n",
    "\n",
    "# Function to recommend anime based on cosine similarity\n",
    "def recommend_anime(target_title, threshold=0.1, num_recommendations=10):\n",
    "    # Get the index of the target anime\n",
    "    try:\n",
    "        idx = df[df['name'] == target_title].index[0]\n",
    "    except IndexError:\n",
    "        return f\"Anime titled '{target_title}' not found in the dataset.\"\n",
    "\n",
    "    # Get the pairwise similarity scores for the target anime\n",
    "    sim_scores = list(enumerate(cosine_sim[idx]))\n",
    "\n",
    "    # Sort the anime based on the similarity scores\n",
    "    sim_scores = sorted(sim_scores, key=lambda x: x[1], reverse=True)\n",
    "\n",
    "    # Filter recommendations based on the threshold\n",
    "    filtered_scores = [score for score in sim_scores if score[1] > threshold]\n",
    "\n",
    "    # Get the indices of the most similar anime\n",
    "    anime_indices = [i[0] for i in filtered_scores[1:num_recommendations + 1]]  # Exclude itself and limit number\n",
    "\n",
    "    # Return the titles of the recommended anime\n",
    "    recommended_titles = df['name'].iloc[anime_indices].tolist()\n",
    "\n",
    "    return recommended_titles\n",
    "\n",
    "# Example: Recommend anime similar to 'Kimi no Na wa.' with a threshold of 0.2\n",
    "recommended_anime = recommend_anime('Kimi no Na wa.', threshold=0.2, num_recommendations=10)\n",
    "print(\"Recommended Anime:\")\n",
    "print(recommended_anime)\n"
   ]
  },
  {
   "cell_type": "markdown",
   "id": "03320082-28c7-4810-bf36-27ce6f30efd2",
   "metadata": {},
   "source": [
    "Evaluation:\r\n",
    "\r\n",
    "Split the dataset into training and testing sets.\r\n",
    "Evaluate the recommendation system using appropriate metrics such as precision, recall, and F1-score.\r\n",
    "Analyze the performance of the recommendation system and identify areas of improvement."
   ]
  },
  {
   "cell_type": "code",
   "execution_count": 58,
   "id": "fd200ae3-0a9c-4931-aee3-88a81428ea70",
   "metadata": {},
   "outputs": [],
   "source": [
    "from sklearn.model_selection import train_test_split\n",
    "\n",
    "# Assuming anime_df is your DataFrame containing anime data\n",
    "train_df, test_df = train_test_split(df, test_size=0.2, random_state=42)\n",
    "\n",
    "# Reset the index\n",
    "train_df.reset_index(drop=True, inplace=True)\n",
    "test_df.reset_index(drop=True, inplace=True)\n"
   ]
  },
  {
   "cell_type": "code",
   "execution_count": 60,
   "id": "d38237ea-a123-4542-b021-777764ab7f50",
   "metadata": {},
   "outputs": [],
   "source": [
    "def generate_recommendations_for_test_set(df, threshold=0.1, num_recommendations=10):\n",
    "    recommendations = {}\n",
    "    for title in df['name']:\n",
    "        recs = recommend_anime(title, threshold=threshold, num_recommendations=num_recommendations)\n",
    "        recommendations[title] = recs\n",
    "    return recommendations\n",
    "\n",
    "# Generate recommendations for the test set\n",
    "test_recommendations = generate_recommendations_for_test_set(test_df)\n"
   ]
  },
  {
   "cell_type": "code",
   "execution_count": 61,
   "id": "42722961-cbaa-40e2-ba4d-bc2d03920d35",
   "metadata": {},
   "outputs": [
    {
     "name": "stdout",
     "output_type": "stream",
     "text": [
      "Precision: 1.0000, Recall: 1.0000, F1-Score: 1.0000\n"
     ]
    }
   ],
   "source": [
    "from sklearn.metrics import precision_score, recall_score, f1_score\n",
    "\n",
    "# Function to calculate precision, recall, and F1-score\n",
    "def evaluate_recommendations(df, recommendations):\n",
    "    y_true = []\n",
    "    y_pred = []\n",
    "\n",
    "    for title, recs in recommendations.items():\n",
    "        # True positives (anime in the test set that are also recommended)\n",
    "        true_anime = set(test_df[test_df['name'] == title]['name'].tolist())\n",
    "        for rec in recs:\n",
    "            if rec in true_anime:\n",
    "                y_true.append(1)  # It's a relevant recommendation\n",
    "            else:\n",
    "                y_true.append(0)  # Not a relevant recommendation\n",
    "            \n",
    "            # All recommended anime are considered as predictions\n",
    "            y_pred.append(1 if rec in true_anime else 0)\n",
    "\n",
    "    precision = precision_score(y_true, y_pred, zero_division=0)\n",
    "    recall = recall_score(y_true, y_pred, zero_division=0)\n",
    "    f1 = f1_score(y_true, y_pred, zero_division=0)\n",
    "    \n",
    "    return precision, recall, f1\n",
    "\n",
    "# Evaluate the recommendations\n",
    "precision, recall, f1 = evaluate_recommendations(df, test_recommendations)\n",
    "\n",
    "print(f\"Precision: {precision:.4f}, Recall: {recall:.4f}, F1-Score: {f1:.4f}\")\n"
   ]
  },
  {
   "cell_type": "markdown",
   "id": "3905ab4f-4fed-48d3-9e0b-cc2e8931711e",
   "metadata": {},
   "source": [
    "Identify Areas of Improvement\n",
    "Threshold Adjustment: Experiment with different thresholds to see how they affect precision and recall.\n",
    "\n",
    "Feature Engineering: Consider adding more features or refining existing ones to improve the accuracy of the cosine similarity calculation.\n",
    "\n",
    " Alternative Algorithms: Explore other recommendation algorithms, such as collaborative filtering or content-based filtering, and compare their performance against the cosine similarity-based method.\n",
    " \n",
    " User Feedback: If possible, collect user feedback on the recommendations to fine-tune the system further."
   ]
  },
  {
   "cell_type": "markdown",
   "id": "7ef70808-a25a-4b19-8fa5-c0bf4bd7ac50",
   "metadata": {},
   "source": [
    "Interview Questions:\n",
    "1. Can you explain the difference between user-based and item-based collaborative filtering?\n",
    "\n",
    "User Based: Here, we look for the users who have rated various items in the same way and then find the rating of the missing item with the help of these users.\r\n",
    "Item Based: Here, we explore the relationship between the pair of items (the user who bought Y, also bought Z). We find the missing rating with the help of the ratings given to the other items by the user.\n"
   ]
  },
  {
   "cell_type": "markdown",
   "id": "647553f0-568b-4604-b6c7-8f3a41727c39",
   "metadata": {},
   "source": [
    "2. What is collaborative filtering, and how does it work?\n",
    "\n",
    "Collaborative filtering is a popular technique used in recommendation systems to suggest items (such as movies, books, products, etc.) to users based on the preferences and behaviors of other users. The underlying assumption of collaborative filtering is that users who have agreed in the past will agree in the future, making it possible to recommend items that users with similar tastes have liked or rated positively.\n",
    "\n"
   ]
  },
  {
   "cell_type": "code",
   "execution_count": null,
   "id": "eff6687e-98d5-4708-a95a-7a994e55addb",
   "metadata": {},
   "outputs": [],
   "source": []
  }
 ],
 "metadata": {
  "kernelspec": {
   "display_name": "Python 3 (ipykernel)",
   "language": "python",
   "name": "python3"
  },
  "language_info": {
   "codemirror_mode": {
    "name": "ipython",
    "version": 3
   },
   "file_extension": ".py",
   "mimetype": "text/x-python",
   "name": "python",
   "nbconvert_exporter": "python",
   "pygments_lexer": "ipython3",
   "version": "3.12.4"
  }
 },
 "nbformat": 4,
 "nbformat_minor": 5
}
