{
 "cells": [
  {
   "cell_type": "markdown",
   "id": "27d3d9fa-901e-46eb-bb89-fc6ed6341ebb",
   "metadata": {},
   "source": [
    "### HYPOTHESIS TESTING\r",
    "###### Backgroud:\n",
    "Bombay hospitality Ltd. operates a franchise model for producing exotic Norwegian dinners throughout New England. The operating cost for a franchise in a week (W) is given by the equation W = $1,000 + $5X, where X represents the number of units produced in a week. Recent feedback from restaurant owners suggests that this cost model may no longer be accurate, as their observed weekly operating costs are higher.r.\r\n"
   ]
  },
  {
   "cell_type": "markdown",
   "id": "e0b61bdf-2209-41b5-bce7-bdf4cbfc2caa",
   "metadata": {},
   "source": [
    "##### Objective:\r\n",
    "To investigate the restaurant owners' claim about the increase in weekly operating costs using hypothesis testing.\r\n"
   ]
  },
  {
   "cell_type": "markdown",
   "id": "dab8190a-43e9-41cf-a573-5963ab2829f4",
   "metadata": {},
   "source": [
    "###### Data Provided:\n",
    "* \tThe theoretical weekly operating cost model: W = $1,000 + $5\n",
    "* •\tSample of 25 restaurants with a mean weekly cost of Rs. 3,0\n",
    "* \n",
    "•\tNumber of units produced in a week (X) follows a normal distribution with a mean (μ) of 600 units and a standard deviation (σ) of 25 units\r\n"
   ]
  },
  {
   "cell_type": "markdown",
   "id": "0ba81d5e-5c60-4de7-987e-00cb7bbbb65e",
   "metadata": {},
   "source": [
    "##### Assignment Tasks:\n",
    "1. State the Hypotheses statement:\n",
    "2. Calculate the Test Statistic:\n",
    "Use the following formula to calculate the test statistic (t):\n",
    "where:\n",
    "* ˉxˉ = sample mean weekly cost (Rs. 3,050)\n",
    "* μ = theoretical mean weekly cost according to the cost model (W = $1,000 + $5X for X = 600 unit)\n",
    "* σ = 5*25 units\n",
    "* n = sample size (25 restaurants)\n"
   ]
  },
  {
   "cell_type": "markdown",
   "id": "594b3ec8-e852-4ee2-a7f9-3542f49e203a",
   "metadata": {},
   "source": [
    "\n",
    "* Null Hypothesis (H0): It states that there is no increase in weekly operating cost. Whereas\n",
    "* Alternate Hypothesis (H1): It states that there is significant increase in weekly operating cost.\n",
    "* \n",
    "To verify our hypothesis, we will use t-test. If our calculated t-value (i.e. t-value obtained statistically) < critical t-value, then we will accept our null hypothesis (H0) because when t-value is less than critical t-value, then the result of the test is not statistically significant. Now,Let’s calculate the t-value and critical t-value.\n"
   ]
  },
  {
   "cell_type": "code",
   "execution_count": 11,
   "id": "9bd8070a-c021-42eb-ade1-b61780b0f236",
   "metadata": {},
   "outputs": [],
   "source": [
    "#import required libraries\n",
    "import numpy as np\n",
    "from scipy import stats"
   ]
  },
  {
   "cell_type": "code",
   "execution_count": 13,
   "id": "2d03a9a8-effa-4c66-b99d-0c2359614156",
   "metadata": {},
   "outputs": [],
   "source": [
    "#given data\n",
    "sample_size=25\n",
    "pop_mean=4000\n",
    "sam_mean=3050\n",
    "std=25"
   ]
  },
  {
   "cell_type": "code",
   "execution_count": 27,
   "id": "eee2861a-2d71-46ad-b407-b1270c81d3bd",
   "metadata": {},
   "outputs": [],
   "source": [
    "#Calculate the test statistic (t)\n",
    "t_statistic=(sam_mean  - pop_mean) / (std /np.sqrt(sample_size))\n"
   ]
  },
  {
   "cell_type": "code",
   "execution_count": 29,
   "id": "de8b60ee-fe63-4c77-852d-ea55dd1c9d99",
   "metadata": {},
   "outputs": [
    {
     "name": "stdout",
     "output_type": "stream",
     "text": [
      "Test Statistic (t): -190.0\n"
     ]
    }
   ],
   "source": [
    "#Make a decision\n",
    "print(f\"Test Statistic (t): {t_statistic}\")\n"
   ]
  },
  {
   "cell_type": "markdown",
   "id": "b34b74b7-d0d8-4547-9517-228edd0cdc54",
   "metadata": {},
   "source": [
    "A negative t-value indicates sample mean < population mean which does not influence the significant difference between the means of two groups. \n",
    "So, we can avoid the negative sign"
   ]
  },
  {
   "cell_type": "code",
   "execution_count": 32,
   "id": "efdd6df6-e2a7-49ef-afb9-c7cc06f00112",
   "metadata": {},
   "outputs": [
    {
     "data": {
      "text/plain": [
       "190.0"
      ]
     },
     "execution_count": 32,
     "metadata": {},
     "output_type": "execute_result"
    }
   ],
   "source": [
    "#abs function convert negative number into positive number\n",
    "t_statistic=abs(t_statistic)\n",
    "t_statistic"
   ]
  },
  {
   "cell_type": "markdown",
   "id": "8f34c731-1af3-4571-9a24-f79ac8a129d6",
   "metadata": {},
   "source": [
    "3. Determine the Critical Value:\r\n",
    "Using the alpha level of 5% (α = 0.05), determine the critical value from the standard normal (Z) distribution table.\r\n"
   ]
  },
  {
   "cell_type": "code",
   "execution_count": 36,
   "id": "2a1d0131-eb7f-4c70-aa84-72474b6ee078",
   "metadata": {},
   "outputs": [
    {
     "data": {
      "text/plain": [
       "24"
      ]
     },
     "execution_count": 36,
     "metadata": {},
     "output_type": "execute_result"
    }
   ],
   "source": [
    "#degree of freedom which shows no. of independent variables used for calculating critical t-value\n",
    "df = sample_size - 1 \n",
    "df"
   ]
  },
  {
   "cell_type": "code",
   "execution_count": 41,
   "id": "7baa8272-e4ba-4a25-9205-29f013505419",
   "metadata": {},
   "outputs": [
    {
     "data": {
      "text/plain": [
       "2.0638985616280205"
      ]
     },
     "execution_count": 41,
     "metadata": {},
     "output_type": "execute_result"
    }
   ],
   "source": [
    "##significance level (threshold value used to decide whether to reject null hypothesis)\n",
    "alpha=0.05\n",
    "\n",
    "#find the critical t-value using t.ppf function available inside stats sublib\n",
    "critical_t = stats.t.ppf(1-alpha/2,df)\n",
    "critical_t"
   ]
  },
  {
   "cell_type": "markdown",
   "id": "2e0e70a6-4b01-4ced-9948-7380b8398c57",
   "metadata": {},
   "source": [
    "* \n",
    "We can also determine critical value from the standard normal (Z) distribution table. α = 0.05 => confidence level (c) = 1- α = 0.95. Calculate the Area under the normal distribution curve for the given confidence level: A = (1+0.95) /2 = 0.975 => Search area value 0.975 in Normal (Z) distribution table => we get z-score of 0.975 = 1.96 which means z-score at 95% confidence level = 1.96. Hence, critical value from Normal (Z) distribution table = 1.9\n",
    "\n",
    "* \n",
    "Since, our calculated t-value > critical t-value, then we will reject our null hypothesis (H0) which means there is significant increase in weekly operating cost. In other words, Rejection of null hypothesis means acceptance of alternate hypothesis, therefore, we support the restaurant owners' claim that the weekly operating costs are higher than the model suggests.6"
   ]
  },
  {
   "cell_type": "markdown",
   "id": "7fe0b55e-ab6c-49c5-90b2-e6460e50418f",
   "metadata": {},
   "source": [
    "4. Make a Decision:\n",
    "Compare the test statistic with the critical value to decide whether to reject the null hypothesis.\n"
   ]
  },
  {
   "cell_type": "code",
   "execution_count": 45,
   "id": "f9040e82-6d9d-4f26-9357-3c671b075ed0",
   "metadata": {},
   "outputs": [
    {
     "name": "stdout",
     "output_type": "stream",
     "text": [
      "Null Hypothesis is rejected which means there is a significant increase in weekly operating cost\n"
     ]
    }
   ],
   "source": [
    "#we can write the code for above explanation\n",
    "if t_statistic>critical_t:\n",
    "     print(\"Null Hypothesis is rejected which means there is a significant increase in weekly operating cost\")\n",
    "else:\n",
    "    print(\"Null Hypothesis is accepted which means there is no increase in weekly operating cost\")"
   ]
  },
  {
   "cell_type": "markdown",
   "id": "43c4d9b1-5a7f-47c2-8555-8ac3002258f7",
   "metadata": {},
   "source": [
    "5. Conclusion:\n",
    "Based on the decision in step 4, conclude whether there is strong evidence to support the restaurant owners' claim that the weekly operating costs are higher than the model suggests.\n"
   ]
  },
  {
   "cell_type": "code",
   "execution_count": 53,
   "id": "5d188109-a12c-496a-986b-2fa53f51d929",
   "metadata": {},
   "outputs": [
    {
     "ename": "NameError",
     "evalue": "name 't_statistics' is not defined",
     "output_type": "error",
     "traceback": [
      "\u001b[1;31m---------------------------------------------------------------------------\u001b[0m",
      "\u001b[1;31mNameError\u001b[0m                                 Traceback (most recent call last)",
      "Cell \u001b[1;32mIn[53], line 5\u001b[0m\n\u001b[0;32m      1\u001b[0m \u001b[38;5;66;03m#We can also use p-value to decide whether to reject the null hypothesis\u001b[39;00m\n\u001b[0;32m      2\u001b[0m \n\u001b[0;32m      3\u001b[0m \u001b[38;5;66;03m#calculate p_value using t.cdf function\u001b[39;00m\n\u001b[1;32m----> 5\u001b[0m p_value\u001b[38;5;241m=\u001b[39m\u001b[38;5;241m1\u001b[39m\u001b[38;5;241m-\u001b[39mstats\u001b[38;5;241m.\u001b[39mt\u001b[38;5;241m.\u001b[39mcdf(t_statistics,df)\n",
      "\u001b[1;31mNameError\u001b[0m: name 't_statistics' is not defined"
     ]
    }
   ],
   "source": [
    "#We can also use p-value to decide whether to reject the null hypothesis\n",
    "\n",
    "#calculate p_value using t.cdf function\n",
    "\n",
    "p_value=1-stats.t.cdf(t_statistics,df)"
   ]
  },
  {
   "cell_type": "code",
   "execution_count": null,
   "id": "8f088ef1-a9b0-483d-9d2c-dd9e5b0b978f",
   "metadata": {},
   "outputs": [],
   "source": [
    "if p_value >alpha:\n",
    "    print(\"Null Hypothesis is accepted which means there is no increase in weekly operating cost\")\n",
    "else:\n",
    "    print(\"Null Hypothesis is rejected which means there is a significant increase in weekly operating cost\")"
   ]
  },
  {
   "cell_type": "code",
   "execution_count": null,
   "id": "fc8e4ed2-0d28-4e1a-b6a8-53e3c20378d9",
   "metadata": {},
   "outputs": [],
   "source": []
  }
 ],
 "metadata": {
  "kernelspec": {
   "display_name": "Python 3 (ipykernel)",
   "language": "python",
   "name": "python3"
  },
  "language_info": {
   "codemirror_mode": {
    "name": "ipython",
    "version": 3
   },
   "file_extension": ".py",
   "mimetype": "text/x-python",
   "name": "python",
   "nbconvert_exporter": "python",
   "pygments_lexer": "ipython3",
   "version": "3.12.4"
  }
 },
 "nbformat": 4,
 "nbformat_minor": 5
}
