{
 "cells": [
  {
   "cell_type": "markdown",
   "id": "be06b02c-ed06-417a-8c49-7b0917d23144",
   "metadata": {},
   "source": [
    "## TEXT CLASSIFICATION USING NAIVE BAYES AND SENTIMENT ANALYSIS ON BLOG POSTS\n",
    "##### Overview\n",
    "In this assignment, you will work on the \"blogs_categories.csv\" dataset, which contains blog posts categorized into various themes. Your task will be to build a text classification model using the Naive Bayes algorithm to categorize the blog posts accurately. Furthermore, you will perform sentiment analysis to understand the general sentiment (positive, negative, neutral) expressed in these posts. This assignment will enhance your understanding of text classification, sentiment analysis, and the practical application of the Naive Bayes algorithm in Natural Language Processing (NLP)."
   ]
  },
  {
   "cell_type": "markdown",
   "id": "2687a2c9-7e12-4f8f-b03c-3f785205c73b",
   "metadata": {},
   "source": [
    "##### Dataset\n",
    "The provided dataset, \"blogs_categories.csv\", consists of blog posts along with their associated categories. Each row represents a blog post with the following columns:\n",
    "* \tText: The content of the blog post. Column name: Dat\n",
    "* •\tCategory: The category to which the blog post belongs. Column name: Labels\r\n"
   ]
  },
  {
   "cell_type": "markdown",
   "id": "b2787c9a-16bf-4ea9-b548-255cf490fee5",
   "metadata": {},
   "source": [
    "Tasks:\n",
    "1. Data Exploration and Preprocessing\n",
    "* Load the \"blogs_categories.csv\" dataset and perform an exploratory data analysis to understand its structure and content.\n",
    "* Preprocess the data by cleaning the text (removing punctuation, converting to lowercase, etc.), tokenizing, and removing stopwords.\n",
    "* Perform feature extraction to convert text data into a format that can be used by the Naive Bayes model, using techniques such as TF-IDF."
   ]
  },
  {
   "cell_type": "code",
   "execution_count": 4,
   "id": "06749495-49fa-4022-b783-2c6cc27db18e",
   "metadata": {},
   "outputs": [
    {
     "data": {
      "text/html": [
       "<div>\n",
       "<style scoped>\n",
       "    .dataframe tbody tr th:only-of-type {\n",
       "        vertical-align: middle;\n",
       "    }\n",
       "\n",
       "    .dataframe tbody tr th {\n",
       "        vertical-align: top;\n",
       "    }\n",
       "\n",
       "    .dataframe thead th {\n",
       "        text-align: right;\n",
       "    }\n",
       "</style>\n",
       "<table border=\"1\" class=\"dataframe\">\n",
       "  <thead>\n",
       "    <tr style=\"text-align: right;\">\n",
       "      <th></th>\n",
       "      <th>Data</th>\n",
       "      <th>Labels</th>\n",
       "    </tr>\n",
       "  </thead>\n",
       "  <tbody>\n",
       "    <tr>\n",
       "      <th>0</th>\n",
       "      <td>Path: cantaloupe.srv.cs.cmu.edu!magnesium.club...</td>\n",
       "      <td>alt.atheism</td>\n",
       "    </tr>\n",
       "    <tr>\n",
       "      <th>1</th>\n",
       "      <td>Newsgroups: alt.atheism\\nPath: cantaloupe.srv....</td>\n",
       "      <td>alt.atheism</td>\n",
       "    </tr>\n",
       "    <tr>\n",
       "      <th>2</th>\n",
       "      <td>Path: cantaloupe.srv.cs.cmu.edu!das-news.harva...</td>\n",
       "      <td>alt.atheism</td>\n",
       "    </tr>\n",
       "    <tr>\n",
       "      <th>3</th>\n",
       "      <td>Path: cantaloupe.srv.cs.cmu.edu!magnesium.club...</td>\n",
       "      <td>alt.atheism</td>\n",
       "    </tr>\n",
       "    <tr>\n",
       "      <th>4</th>\n",
       "      <td>Xref: cantaloupe.srv.cs.cmu.edu alt.atheism:53...</td>\n",
       "      <td>alt.atheism</td>\n",
       "    </tr>\n",
       "  </tbody>\n",
       "</table>\n",
       "</div>"
      ],
      "text/plain": [
       "                                                Data       Labels\n",
       "0  Path: cantaloupe.srv.cs.cmu.edu!magnesium.club...  alt.atheism\n",
       "1  Newsgroups: alt.atheism\\nPath: cantaloupe.srv....  alt.atheism\n",
       "2  Path: cantaloupe.srv.cs.cmu.edu!das-news.harva...  alt.atheism\n",
       "3  Path: cantaloupe.srv.cs.cmu.edu!magnesium.club...  alt.atheism\n",
       "4  Xref: cantaloupe.srv.cs.cmu.edu alt.atheism:53...  alt.atheism"
      ]
     },
     "execution_count": 4,
     "metadata": {},
     "output_type": "execute_result"
    }
   ],
   "source": [
    "import pandas as pd\n",
    "import numpy as np\n",
    "import matplotlib.pyplot as plt\n",
    "import seaborn as sns\n",
    "df=pd.read_csv(r\"C:\\Users\\Akshata\\OneDrive\\Desktop\\Assignment\\blogs.csv\")\n",
    "df.head()"
   ]
  },
  {
   "cell_type": "code",
   "execution_count": 5,
   "id": "aa4ec847-a4e5-465b-a441-53e969ec1868",
   "metadata": {},
   "outputs": [
    {
     "data": {
      "text/plain": [
       "(2000, 2)"
      ]
     },
     "execution_count": 5,
     "metadata": {},
     "output_type": "execute_result"
    }
   ],
   "source": [
    "df.shape"
   ]
  },
  {
   "cell_type": "code",
   "execution_count": 6,
   "id": "8dc89d01-dc2f-426b-9cec-1f5848e76cfb",
   "metadata": {},
   "outputs": [
    {
     "data": {
      "text/plain": [
       "Data      0\n",
       "Labels    0\n",
       "dtype: int64"
      ]
     },
     "execution_count": 6,
     "metadata": {},
     "output_type": "execute_result"
    }
   ],
   "source": [
    "#checking null values\n",
    "df.isnull().sum()"
   ]
  },
  {
   "cell_type": "code",
   "execution_count": 7,
   "id": "baf71cac-e194-4ccf-8c32-b4184627bb00",
   "metadata": {},
   "outputs": [
    {
     "name": "stdout",
     "output_type": "stream",
     "text": [
      "<class 'pandas.core.frame.DataFrame'>\n",
      "RangeIndex: 2000 entries, 0 to 1999\n",
      "Data columns (total 2 columns):\n",
      " #   Column  Non-Null Count  Dtype \n",
      "---  ------  --------------  ----- \n",
      " 0   Data    2000 non-null   object\n",
      " 1   Labels  2000 non-null   object\n",
      "dtypes: object(2)\n",
      "memory usage: 31.4+ KB\n"
     ]
    }
   ],
   "source": [
    "df.info()"
   ]
  },
  {
   "cell_type": "code",
   "execution_count": 38,
   "id": "10868fd4-b673-4ecb-82c9-b4ea4fe9b54a",
   "metadata": {},
   "outputs": [],
   "source": [
    "import re\n",
    "import nltk\n",
    "from nltk.tokenize import word_tokenize\n",
    "from nltk.corpus import stopwords\n",
    "from sklearn.feature_extraction.text import TfidfVectorizer"
   ]
  },
  {
   "cell_type": "code",
   "execution_count": 40,
   "id": "2f3858e5-0d26-442c-9b13-a13a2bf4f0f0",
   "metadata": {},
   "outputs": [
    {
     "name": "stderr",
     "output_type": "stream",
     "text": [
      "[nltk_data] Downloading package stopwords to\n",
      "[nltk_data]     C:\\Users\\Akshata\\AppData\\Roaming\\nltk_data...\n",
      "[nltk_data]   Package stopwords is already up-to-date!\n"
     ]
    }
   ],
   "source": [
    "#download stopwords\n",
    "nltk.download('stopwords')\n",
    "stop_words=set(stopwords.words('english'))"
   ]
  },
  {
   "cell_type": "code",
   "execution_count": 50,
   "id": "741915fa-0980-49a4-9e60-0600ed1d976e",
   "metadata": {},
   "outputs": [],
   "source": [
    "def preprocess_text(text):\n",
    "    #convert text to lowercase\n",
    "    text=text.lower()\n",
    "    #remove punctuation\n",
    "    text=re.sub(r'[^\\w\\s]','',text)\n",
    "    #tokenization\n",
    "    tokens=nltk.word_tokenize(text)\n",
    "    #remove stopwords\n",
    "    stopwords_list=set(stopwords.words('english'))\n",
    "    tokens=[word for word in tokens if word not in stopwords_list]\n",
    "    #join tokens back into text\n",
    "    text=' '.join(tokens)\n",
    "    return text"
   ]
  },
  {
   "cell_type": "code",
   "execution_count": 52,
   "id": "ac050e9c-2a53-472e-a0fb-5aa4bf850ecc",
   "metadata": {},
   "outputs": [],
   "source": [
    "#Apply text preprocessing to the 'text' column\n",
    "df['cleaned_text']=df['Data'].apply(preprocess_text)"
   ]
  },
  {
   "cell_type": "code",
   "execution_count": 54,
   "id": "f19c2b4e-ff7e-4287-873e-7286fbf26480",
   "metadata": {},
   "outputs": [
    {
     "data": {
      "text/html": [
       "<div>\n",
       "<style scoped>\n",
       "    .dataframe tbody tr th:only-of-type {\n",
       "        vertical-align: middle;\n",
       "    }\n",
       "\n",
       "    .dataframe tbody tr th {\n",
       "        vertical-align: top;\n",
       "    }\n",
       "\n",
       "    .dataframe thead th {\n",
       "        text-align: right;\n",
       "    }\n",
       "</style>\n",
       "<table border=\"1\" class=\"dataframe\">\n",
       "  <thead>\n",
       "    <tr style=\"text-align: right;\">\n",
       "      <th></th>\n",
       "      <th>Data</th>\n",
       "      <th>cleaned_text</th>\n",
       "    </tr>\n",
       "  </thead>\n",
       "  <tbody>\n",
       "    <tr>\n",
       "      <th>0</th>\n",
       "      <td>Path: cantaloupe.srv.cs.cmu.edu!magnesium.club...</td>\n",
       "      <td>path cantaloupesrvcscmuedumagnesiumclubcccmued...</td>\n",
       "    </tr>\n",
       "    <tr>\n",
       "      <th>1</th>\n",
       "      <td>Newsgroups: alt.atheism\\nPath: cantaloupe.srv....</td>\n",
       "      <td>newsgroups altatheism path cantaloupesrvcscmue...</td>\n",
       "    </tr>\n",
       "    <tr>\n",
       "      <th>2</th>\n",
       "      <td>Path: cantaloupe.srv.cs.cmu.edu!das-news.harva...</td>\n",
       "      <td>path cantaloupesrvcscmuedudasnewsharvardedunoc...</td>\n",
       "    </tr>\n",
       "    <tr>\n",
       "      <th>3</th>\n",
       "      <td>Path: cantaloupe.srv.cs.cmu.edu!magnesium.club...</td>\n",
       "      <td>path cantaloupesrvcscmuedumagnesiumclubcccmued...</td>\n",
       "    </tr>\n",
       "    <tr>\n",
       "      <th>4</th>\n",
       "      <td>Xref: cantaloupe.srv.cs.cmu.edu alt.atheism:53...</td>\n",
       "      <td>xref cantaloupesrvcscmuedu altatheism53485 tal...</td>\n",
       "    </tr>\n",
       "  </tbody>\n",
       "</table>\n",
       "</div>"
      ],
      "text/plain": [
       "                                                Data  \\\n",
       "0  Path: cantaloupe.srv.cs.cmu.edu!magnesium.club...   \n",
       "1  Newsgroups: alt.atheism\\nPath: cantaloupe.srv....   \n",
       "2  Path: cantaloupe.srv.cs.cmu.edu!das-news.harva...   \n",
       "3  Path: cantaloupe.srv.cs.cmu.edu!magnesium.club...   \n",
       "4  Xref: cantaloupe.srv.cs.cmu.edu alt.atheism:53...   \n",
       "\n",
       "                                        cleaned_text  \n",
       "0  path cantaloupesrvcscmuedumagnesiumclubcccmued...  \n",
       "1  newsgroups altatheism path cantaloupesrvcscmue...  \n",
       "2  path cantaloupesrvcscmuedudasnewsharvardedunoc...  \n",
       "3  path cantaloupesrvcscmuedumagnesiumclubcccmued...  \n",
       "4  xref cantaloupesrvcscmuedu altatheism53485 tal...  "
      ]
     },
     "execution_count": 54,
     "metadata": {},
     "output_type": "execute_result"
    }
   ],
   "source": [
    "# Display the first few rows of the cleaned data\n",
    "df[['Data', 'cleaned_text']].head()"
   ]
  },
  {
   "cell_type": "code",
   "execution_count": 56,
   "id": "a4db5acd-4fef-4e61-933e-8378a79330c2",
   "metadata": {},
   "outputs": [],
   "source": [
    "# Initialize TF-IDF Vectorizer\n",
    "tfidf_vectorizer = TfidfVectorizer(max_features=5000)  # Limiting to top 5000 features for performance"
   ]
  },
  {
   "cell_type": "code",
   "execution_count": 62,
   "id": "5569cc71-d976-43f1-ad10-cb97fb447b51",
   "metadata": {},
   "outputs": [
    {
     "data": {
      "text/plain": [
       "(2000, 5000)"
      ]
     },
     "execution_count": 62,
     "metadata": {},
     "output_type": "execute_result"
    }
   ],
   "source": [
    "# Fit and transform the cleaned data\n",
    "X_tfidf = tfidf_vectorizer.fit_transform(df['cleaned_text'])\n",
    "\n",
    "# Display the shape of the resulting TF-IDF matrix\n",
    "X_tfidf.shape"
   ]
  },
  {
   "cell_type": "markdown",
   "id": "a9b1c5a0-dce5-4b4d-aaf9-d58bd1c6848b",
   "metadata": {},
   "source": [
    "The TF-IDF transformation has created a matrix with 2,000 rows (blog posts) and 5,000 features"
   ]
  },
  {
   "cell_type": "markdown",
   "id": "cfd3de2e-151d-47d9-b82e-4bda54a4b230",
   "metadata": {},
   "source": [
    "### 2. Naive Bayes Model for Text Classification\n",
    "\n",
    "* Split the data into training and test sets.\n",
    "* Implement a Naive Bayes classifier to categorize the blog posts into their respective categories. You can use libraries like scikit-learn for this purpose.\n",
    "* Train the model on the training set and make predictions on the test set."
   ]
  },
  {
   "cell_type": "code",
   "execution_count": 68,
   "id": "ce2c4fce-a128-4837-ac8a-9b1682dab74b",
   "metadata": {},
   "outputs": [],
   "source": [
    "# Features and labels\n",
    "X = df['cleaned_text']  # The text column\n",
    "y = df['Labels']        # The category column"
   ]
  },
  {
   "cell_type": "code",
   "execution_count": 72,
   "id": "7f9fe902-586b-4004-8b60-73c3b47cb78e",
   "metadata": {},
   "outputs": [],
   "source": [
    "# Split the data into training and testing sets\n",
    "from sklearn.model_selection import train_test_split\n",
    "X_train, X_test, y_train, y_test = train_test_split(X_tfidf, y, test_size=0.2, random_state=42)"
   ]
  },
  {
   "cell_type": "code",
   "execution_count": 81,
   "id": "83970caf-687f-4c8a-b760-6e4773e3c77b",
   "metadata": {},
   "outputs": [
    {
     "data": {
      "text/html": [
       "<style>#sk-container-id-2 {\n",
       "  /* Definition of color scheme common for light and dark mode */\n",
       "  --sklearn-color-text: black;\n",
       "  --sklearn-color-line: gray;\n",
       "  /* Definition of color scheme for unfitted estimators */\n",
       "  --sklearn-color-unfitted-level-0: #fff5e6;\n",
       "  --sklearn-color-unfitted-level-1: #f6e4d2;\n",
       "  --sklearn-color-unfitted-level-2: #ffe0b3;\n",
       "  --sklearn-color-unfitted-level-3: chocolate;\n",
       "  /* Definition of color scheme for fitted estimators */\n",
       "  --sklearn-color-fitted-level-0: #f0f8ff;\n",
       "  --sklearn-color-fitted-level-1: #d4ebff;\n",
       "  --sklearn-color-fitted-level-2: #b3dbfd;\n",
       "  --sklearn-color-fitted-level-3: cornflowerblue;\n",
       "\n",
       "  /* Specific color for light theme */\n",
       "  --sklearn-color-text-on-default-background: var(--sg-text-color, var(--theme-code-foreground, var(--jp-content-font-color1, black)));\n",
       "  --sklearn-color-background: var(--sg-background-color, var(--theme-background, var(--jp-layout-color0, white)));\n",
       "  --sklearn-color-border-box: var(--sg-text-color, var(--theme-code-foreground, var(--jp-content-font-color1, black)));\n",
       "  --sklearn-color-icon: #696969;\n",
       "\n",
       "  @media (prefers-color-scheme: dark) {\n",
       "    /* Redefinition of color scheme for dark theme */\n",
       "    --sklearn-color-text-on-default-background: var(--sg-text-color, var(--theme-code-foreground, var(--jp-content-font-color1, white)));\n",
       "    --sklearn-color-background: var(--sg-background-color, var(--theme-background, var(--jp-layout-color0, #111)));\n",
       "    --sklearn-color-border-box: var(--sg-text-color, var(--theme-code-foreground, var(--jp-content-font-color1, white)));\n",
       "    --sklearn-color-icon: #878787;\n",
       "  }\n",
       "}\n",
       "\n",
       "#sk-container-id-2 {\n",
       "  color: var(--sklearn-color-text);\n",
       "}\n",
       "\n",
       "#sk-container-id-2 pre {\n",
       "  padding: 0;\n",
       "}\n",
       "\n",
       "#sk-container-id-2 input.sk-hidden--visually {\n",
       "  border: 0;\n",
       "  clip: rect(1px 1px 1px 1px);\n",
       "  clip: rect(1px, 1px, 1px, 1px);\n",
       "  height: 1px;\n",
       "  margin: -1px;\n",
       "  overflow: hidden;\n",
       "  padding: 0;\n",
       "  position: absolute;\n",
       "  width: 1px;\n",
       "}\n",
       "\n",
       "#sk-container-id-2 div.sk-dashed-wrapped {\n",
       "  border: 1px dashed var(--sklearn-color-line);\n",
       "  margin: 0 0.4em 0.5em 0.4em;\n",
       "  box-sizing: border-box;\n",
       "  padding-bottom: 0.4em;\n",
       "  background-color: var(--sklearn-color-background);\n",
       "}\n",
       "\n",
       "#sk-container-id-2 div.sk-container {\n",
       "  /* jupyter's `normalize.less` sets `[hidden] { display: none; }`\n",
       "     but bootstrap.min.css set `[hidden] { display: none !important; }`\n",
       "     so we also need the `!important` here to be able to override the\n",
       "     default hidden behavior on the sphinx rendered scikit-learn.org.\n",
       "     See: https://github.com/scikit-learn/scikit-learn/issues/21755 */\n",
       "  display: inline-block !important;\n",
       "  position: relative;\n",
       "}\n",
       "\n",
       "#sk-container-id-2 div.sk-text-repr-fallback {\n",
       "  display: none;\n",
       "}\n",
       "\n",
       "div.sk-parallel-item,\n",
       "div.sk-serial,\n",
       "div.sk-item {\n",
       "  /* draw centered vertical line to link estimators */\n",
       "  background-image: linear-gradient(var(--sklearn-color-text-on-default-background), var(--sklearn-color-text-on-default-background));\n",
       "  background-size: 2px 100%;\n",
       "  background-repeat: no-repeat;\n",
       "  background-position: center center;\n",
       "}\n",
       "\n",
       "/* Parallel-specific style estimator block */\n",
       "\n",
       "#sk-container-id-2 div.sk-parallel-item::after {\n",
       "  content: \"\";\n",
       "  width: 100%;\n",
       "  border-bottom: 2px solid var(--sklearn-color-text-on-default-background);\n",
       "  flex-grow: 1;\n",
       "}\n",
       "\n",
       "#sk-container-id-2 div.sk-parallel {\n",
       "  display: flex;\n",
       "  align-items: stretch;\n",
       "  justify-content: center;\n",
       "  background-color: var(--sklearn-color-background);\n",
       "  position: relative;\n",
       "}\n",
       "\n",
       "#sk-container-id-2 div.sk-parallel-item {\n",
       "  display: flex;\n",
       "  flex-direction: column;\n",
       "}\n",
       "\n",
       "#sk-container-id-2 div.sk-parallel-item:first-child::after {\n",
       "  align-self: flex-end;\n",
       "  width: 50%;\n",
       "}\n",
       "\n",
       "#sk-container-id-2 div.sk-parallel-item:last-child::after {\n",
       "  align-self: flex-start;\n",
       "  width: 50%;\n",
       "}\n",
       "\n",
       "#sk-container-id-2 div.sk-parallel-item:only-child::after {\n",
       "  width: 0;\n",
       "}\n",
       "\n",
       "/* Serial-specific style estimator block */\n",
       "\n",
       "#sk-container-id-2 div.sk-serial {\n",
       "  display: flex;\n",
       "  flex-direction: column;\n",
       "  align-items: center;\n",
       "  background-color: var(--sklearn-color-background);\n",
       "  padding-right: 1em;\n",
       "  padding-left: 1em;\n",
       "}\n",
       "\n",
       "\n",
       "/* Toggleable style: style used for estimator/Pipeline/ColumnTransformer box that is\n",
       "clickable and can be expanded/collapsed.\n",
       "- Pipeline and ColumnTransformer use this feature and define the default style\n",
       "- Estimators will overwrite some part of the style using the `sk-estimator` class\n",
       "*/\n",
       "\n",
       "/* Pipeline and ColumnTransformer style (default) */\n",
       "\n",
       "#sk-container-id-2 div.sk-toggleable {\n",
       "  /* Default theme specific background. It is overwritten whether we have a\n",
       "  specific estimator or a Pipeline/ColumnTransformer */\n",
       "  background-color: var(--sklearn-color-background);\n",
       "}\n",
       "\n",
       "/* Toggleable label */\n",
       "#sk-container-id-2 label.sk-toggleable__label {\n",
       "  cursor: pointer;\n",
       "  display: block;\n",
       "  width: 100%;\n",
       "  margin-bottom: 0;\n",
       "  padding: 0.5em;\n",
       "  box-sizing: border-box;\n",
       "  text-align: center;\n",
       "}\n",
       "\n",
       "#sk-container-id-2 label.sk-toggleable__label-arrow:before {\n",
       "  /* Arrow on the left of the label */\n",
       "  content: \"▸\";\n",
       "  float: left;\n",
       "  margin-right: 0.25em;\n",
       "  color: var(--sklearn-color-icon);\n",
       "}\n",
       "\n",
       "#sk-container-id-2 label.sk-toggleable__label-arrow:hover:before {\n",
       "  color: var(--sklearn-color-text);\n",
       "}\n",
       "\n",
       "/* Toggleable content - dropdown */\n",
       "\n",
       "#sk-container-id-2 div.sk-toggleable__content {\n",
       "  max-height: 0;\n",
       "  max-width: 0;\n",
       "  overflow: hidden;\n",
       "  text-align: left;\n",
       "  /* unfitted */\n",
       "  background-color: var(--sklearn-color-unfitted-level-0);\n",
       "}\n",
       "\n",
       "#sk-container-id-2 div.sk-toggleable__content.fitted {\n",
       "  /* fitted */\n",
       "  background-color: var(--sklearn-color-fitted-level-0);\n",
       "}\n",
       "\n",
       "#sk-container-id-2 div.sk-toggleable__content pre {\n",
       "  margin: 0.2em;\n",
       "  border-radius: 0.25em;\n",
       "  color: var(--sklearn-color-text);\n",
       "  /* unfitted */\n",
       "  background-color: var(--sklearn-color-unfitted-level-0);\n",
       "}\n",
       "\n",
       "#sk-container-id-2 div.sk-toggleable__content.fitted pre {\n",
       "  /* unfitted */\n",
       "  background-color: var(--sklearn-color-fitted-level-0);\n",
       "}\n",
       "\n",
       "#sk-container-id-2 input.sk-toggleable__control:checked~div.sk-toggleable__content {\n",
       "  /* Expand drop-down */\n",
       "  max-height: 200px;\n",
       "  max-width: 100%;\n",
       "  overflow: auto;\n",
       "}\n",
       "\n",
       "#sk-container-id-2 input.sk-toggleable__control:checked~label.sk-toggleable__label-arrow:before {\n",
       "  content: \"▾\";\n",
       "}\n",
       "\n",
       "/* Pipeline/ColumnTransformer-specific style */\n",
       "\n",
       "#sk-container-id-2 div.sk-label input.sk-toggleable__control:checked~label.sk-toggleable__label {\n",
       "  color: var(--sklearn-color-text);\n",
       "  background-color: var(--sklearn-color-unfitted-level-2);\n",
       "}\n",
       "\n",
       "#sk-container-id-2 div.sk-label.fitted input.sk-toggleable__control:checked~label.sk-toggleable__label {\n",
       "  background-color: var(--sklearn-color-fitted-level-2);\n",
       "}\n",
       "\n",
       "/* Estimator-specific style */\n",
       "\n",
       "/* Colorize estimator box */\n",
       "#sk-container-id-2 div.sk-estimator input.sk-toggleable__control:checked~label.sk-toggleable__label {\n",
       "  /* unfitted */\n",
       "  background-color: var(--sklearn-color-unfitted-level-2);\n",
       "}\n",
       "\n",
       "#sk-container-id-2 div.sk-estimator.fitted input.sk-toggleable__control:checked~label.sk-toggleable__label {\n",
       "  /* fitted */\n",
       "  background-color: var(--sklearn-color-fitted-level-2);\n",
       "}\n",
       "\n",
       "#sk-container-id-2 div.sk-label label.sk-toggleable__label,\n",
       "#sk-container-id-2 div.sk-label label {\n",
       "  /* The background is the default theme color */\n",
       "  color: var(--sklearn-color-text-on-default-background);\n",
       "}\n",
       "\n",
       "/* On hover, darken the color of the background */\n",
       "#sk-container-id-2 div.sk-label:hover label.sk-toggleable__label {\n",
       "  color: var(--sklearn-color-text);\n",
       "  background-color: var(--sklearn-color-unfitted-level-2);\n",
       "}\n",
       "\n",
       "/* Label box, darken color on hover, fitted */\n",
       "#sk-container-id-2 div.sk-label.fitted:hover label.sk-toggleable__label.fitted {\n",
       "  color: var(--sklearn-color-text);\n",
       "  background-color: var(--sklearn-color-fitted-level-2);\n",
       "}\n",
       "\n",
       "/* Estimator label */\n",
       "\n",
       "#sk-container-id-2 div.sk-label label {\n",
       "  font-family: monospace;\n",
       "  font-weight: bold;\n",
       "  display: inline-block;\n",
       "  line-height: 1.2em;\n",
       "}\n",
       "\n",
       "#sk-container-id-2 div.sk-label-container {\n",
       "  text-align: center;\n",
       "}\n",
       "\n",
       "/* Estimator-specific */\n",
       "#sk-container-id-2 div.sk-estimator {\n",
       "  font-family: monospace;\n",
       "  border: 1px dotted var(--sklearn-color-border-box);\n",
       "  border-radius: 0.25em;\n",
       "  box-sizing: border-box;\n",
       "  margin-bottom: 0.5em;\n",
       "  /* unfitted */\n",
       "  background-color: var(--sklearn-color-unfitted-level-0);\n",
       "}\n",
       "\n",
       "#sk-container-id-2 div.sk-estimator.fitted {\n",
       "  /* fitted */\n",
       "  background-color: var(--sklearn-color-fitted-level-0);\n",
       "}\n",
       "\n",
       "/* on hover */\n",
       "#sk-container-id-2 div.sk-estimator:hover {\n",
       "  /* unfitted */\n",
       "  background-color: var(--sklearn-color-unfitted-level-2);\n",
       "}\n",
       "\n",
       "#sk-container-id-2 div.sk-estimator.fitted:hover {\n",
       "  /* fitted */\n",
       "  background-color: var(--sklearn-color-fitted-level-2);\n",
       "}\n",
       "\n",
       "/* Specification for estimator info (e.g. \"i\" and \"?\") */\n",
       "\n",
       "/* Common style for \"i\" and \"?\" */\n",
       "\n",
       ".sk-estimator-doc-link,\n",
       "a:link.sk-estimator-doc-link,\n",
       "a:visited.sk-estimator-doc-link {\n",
       "  float: right;\n",
       "  font-size: smaller;\n",
       "  line-height: 1em;\n",
       "  font-family: monospace;\n",
       "  background-color: var(--sklearn-color-background);\n",
       "  border-radius: 1em;\n",
       "  height: 1em;\n",
       "  width: 1em;\n",
       "  text-decoration: none !important;\n",
       "  margin-left: 1ex;\n",
       "  /* unfitted */\n",
       "  border: var(--sklearn-color-unfitted-level-1) 1pt solid;\n",
       "  color: var(--sklearn-color-unfitted-level-1);\n",
       "}\n",
       "\n",
       ".sk-estimator-doc-link.fitted,\n",
       "a:link.sk-estimator-doc-link.fitted,\n",
       "a:visited.sk-estimator-doc-link.fitted {\n",
       "  /* fitted */\n",
       "  border: var(--sklearn-color-fitted-level-1) 1pt solid;\n",
       "  color: var(--sklearn-color-fitted-level-1);\n",
       "}\n",
       "\n",
       "/* On hover */\n",
       "div.sk-estimator:hover .sk-estimator-doc-link:hover,\n",
       ".sk-estimator-doc-link:hover,\n",
       "div.sk-label-container:hover .sk-estimator-doc-link:hover,\n",
       ".sk-estimator-doc-link:hover {\n",
       "  /* unfitted */\n",
       "  background-color: var(--sklearn-color-unfitted-level-3);\n",
       "  color: var(--sklearn-color-background);\n",
       "  text-decoration: none;\n",
       "}\n",
       "\n",
       "div.sk-estimator.fitted:hover .sk-estimator-doc-link.fitted:hover,\n",
       ".sk-estimator-doc-link.fitted:hover,\n",
       "div.sk-label-container:hover .sk-estimator-doc-link.fitted:hover,\n",
       ".sk-estimator-doc-link.fitted:hover {\n",
       "  /* fitted */\n",
       "  background-color: var(--sklearn-color-fitted-level-3);\n",
       "  color: var(--sklearn-color-background);\n",
       "  text-decoration: none;\n",
       "}\n",
       "\n",
       "/* Span, style for the box shown on hovering the info icon */\n",
       ".sk-estimator-doc-link span {\n",
       "  display: none;\n",
       "  z-index: 9999;\n",
       "  position: relative;\n",
       "  font-weight: normal;\n",
       "  right: .2ex;\n",
       "  padding: .5ex;\n",
       "  margin: .5ex;\n",
       "  width: min-content;\n",
       "  min-width: 20ex;\n",
       "  max-width: 50ex;\n",
       "  color: var(--sklearn-color-text);\n",
       "  box-shadow: 2pt 2pt 4pt #999;\n",
       "  /* unfitted */\n",
       "  background: var(--sklearn-color-unfitted-level-0);\n",
       "  border: .5pt solid var(--sklearn-color-unfitted-level-3);\n",
       "}\n",
       "\n",
       ".sk-estimator-doc-link.fitted span {\n",
       "  /* fitted */\n",
       "  background: var(--sklearn-color-fitted-level-0);\n",
       "  border: var(--sklearn-color-fitted-level-3);\n",
       "}\n",
       "\n",
       ".sk-estimator-doc-link:hover span {\n",
       "  display: block;\n",
       "}\n",
       "\n",
       "/* \"?\"-specific style due to the `<a>` HTML tag */\n",
       "\n",
       "#sk-container-id-2 a.estimator_doc_link {\n",
       "  float: right;\n",
       "  font-size: 1rem;\n",
       "  line-height: 1em;\n",
       "  font-family: monospace;\n",
       "  background-color: var(--sklearn-color-background);\n",
       "  border-radius: 1rem;\n",
       "  height: 1rem;\n",
       "  width: 1rem;\n",
       "  text-decoration: none;\n",
       "  /* unfitted */\n",
       "  color: var(--sklearn-color-unfitted-level-1);\n",
       "  border: var(--sklearn-color-unfitted-level-1) 1pt solid;\n",
       "}\n",
       "\n",
       "#sk-container-id-2 a.estimator_doc_link.fitted {\n",
       "  /* fitted */\n",
       "  border: var(--sklearn-color-fitted-level-1) 1pt solid;\n",
       "  color: var(--sklearn-color-fitted-level-1);\n",
       "}\n",
       "\n",
       "/* On hover */\n",
       "#sk-container-id-2 a.estimator_doc_link:hover {\n",
       "  /* unfitted */\n",
       "  background-color: var(--sklearn-color-unfitted-level-3);\n",
       "  color: var(--sklearn-color-background);\n",
       "  text-decoration: none;\n",
       "}\n",
       "\n",
       "#sk-container-id-2 a.estimator_doc_link.fitted:hover {\n",
       "  /* fitted */\n",
       "  background-color: var(--sklearn-color-fitted-level-3);\n",
       "}\n",
       "</style><div id=\"sk-container-id-2\" class=\"sk-top-container\"><div class=\"sk-text-repr-fallback\"><pre>MultinomialNB()</pre><b>In a Jupyter environment, please rerun this cell to show the HTML representation or trust the notebook. <br />On GitHub, the HTML representation is unable to render, please try loading this page with nbviewer.org.</b></div><div class=\"sk-container\" hidden><div class=\"sk-item\"><div class=\"sk-estimator fitted sk-toggleable\"><input class=\"sk-toggleable__control sk-hidden--visually\" id=\"sk-estimator-id-2\" type=\"checkbox\" checked><label for=\"sk-estimator-id-2\" class=\"sk-toggleable__label fitted sk-toggleable__label-arrow fitted\">&nbsp;&nbsp;MultinomialNB<a class=\"sk-estimator-doc-link fitted\" rel=\"noreferrer\" target=\"_blank\" href=\"https://scikit-learn.org/1.4/modules/generated/sklearn.naive_bayes.MultinomialNB.html\">?<span>Documentation for MultinomialNB</span></a><span class=\"sk-estimator-doc-link fitted\">i<span>Fitted</span></span></label><div class=\"sk-toggleable__content fitted\"><pre>MultinomialNB()</pre></div> </div></div></div></div>"
      ],
      "text/plain": [
       "MultinomialNB()"
      ]
     },
     "execution_count": 81,
     "metadata": {},
     "output_type": "execute_result"
    }
   ],
   "source": [
    "from sklearn.naive_bayes import MultinomialNB\n",
    "from sklearn.metrics import classification_report,accuracy_score\n",
    "\n",
    "# Initialize the Naive Bayes model\n",
    "nb_model = MultinomialNB()\n",
    "\n",
    "# Train the model on the training data\n",
    "nb_model.fit(X_train, y_train)\n"
   ]
  },
  {
   "cell_type": "code",
   "execution_count": 76,
   "id": "51369dc6-7523-4089-9e1f-edb3a825d83c",
   "metadata": {},
   "outputs": [
    {
     "name": "stdout",
     "output_type": "stream",
     "text": [
      "                          precision    recall  f1-score   support\n",
      "\n",
      "             alt.atheism       0.52      0.83      0.64        18\n",
      "           comp.graphics       0.83      0.83      0.83        18\n",
      " comp.os.ms-windows.misc       0.86      0.82      0.84        22\n",
      "comp.sys.ibm.pc.hardware       0.73      0.76      0.75        25\n",
      "   comp.sys.mac.hardware       0.82      0.86      0.84        21\n",
      "          comp.windows.x       0.91      0.84      0.88        25\n",
      "            misc.forsale       0.78      0.78      0.78        18\n",
      "               rec.autos       0.89      0.94      0.92        18\n",
      "         rec.motorcycles       0.94      0.94      0.94        16\n",
      "      rec.sport.baseball       0.74      0.94      0.83        18\n",
      "        rec.sport.hockey       0.94      1.00      0.97        15\n",
      "               sci.crypt       0.95      0.95      0.95        19\n",
      "         sci.electronics       0.62      0.62      0.62        16\n",
      "                 sci.med       0.88      0.88      0.88        17\n",
      "               sci.space       1.00      0.81      0.89        21\n",
      "  soc.religion.christian       0.88      0.96      0.92        23\n",
      "      talk.politics.guns       0.85      0.79      0.81        28\n",
      "   talk.politics.mideast       1.00      0.95      0.97        20\n",
      "      talk.politics.misc       0.80      0.89      0.84        18\n",
      "      talk.religion.misc       0.60      0.25      0.35        24\n",
      "\n",
      "                accuracy                           0.82       400\n",
      "               macro avg       0.83      0.83      0.82       400\n",
      "            weighted avg       0.83      0.82      0.82       400\n",
      "\n"
     ]
    }
   ],
   "source": [
    "# Make predictions on the test data\n",
    "y_pred = nb_model.predict(X_test)\n",
    "\n",
    "# Evaluate the model\n",
    "print(classification_report(y_test, y_pred))\n",
    "\n"
   ]
  },
  {
   "cell_type": "code",
   "execution_count": 83,
   "id": "5e9ed371-7d95-4672-99b5-72ad859a98e8",
   "metadata": {},
   "outputs": [
    {
     "name": "stdout",
     "output_type": "stream",
     "text": [
      "Accuracy: 82.25%\n",
      "Classification Report:\n",
      "                          precision    recall  f1-score   support\n",
      "\n",
      "             alt.atheism       0.52      0.83      0.64        18\n",
      "           comp.graphics       0.83      0.83      0.83        18\n",
      " comp.os.ms-windows.misc       0.86      0.82      0.84        22\n",
      "comp.sys.ibm.pc.hardware       0.73      0.76      0.75        25\n",
      "   comp.sys.mac.hardware       0.82      0.86      0.84        21\n",
      "          comp.windows.x       0.91      0.84      0.88        25\n",
      "            misc.forsale       0.78      0.78      0.78        18\n",
      "               rec.autos       0.89      0.94      0.92        18\n",
      "         rec.motorcycles       0.94      0.94      0.94        16\n",
      "      rec.sport.baseball       0.74      0.94      0.83        18\n",
      "        rec.sport.hockey       0.94      1.00      0.97        15\n",
      "               sci.crypt       0.95      0.95      0.95        19\n",
      "         sci.electronics       0.62      0.62      0.62        16\n",
      "                 sci.med       0.88      0.88      0.88        17\n",
      "               sci.space       1.00      0.81      0.89        21\n",
      "  soc.religion.christian       0.88      0.96      0.92        23\n",
      "      talk.politics.guns       0.85      0.79      0.81        28\n",
      "   talk.politics.mideast       1.00      0.95      0.97        20\n",
      "      talk.politics.misc       0.80      0.89      0.84        18\n",
      "      talk.religion.misc       0.60      0.25      0.35        24\n",
      "\n",
      "                accuracy                           0.82       400\n",
      "               macro avg       0.83      0.83      0.82       400\n",
      "            weighted avg       0.83      0.82      0.82       400\n",
      "\n"
     ]
    }
   ],
   "source": [
    "# Evaluate the accuracy\n",
    "accuracy = accuracy_score(y_test, y_pred)\n",
    "print(f'Accuracy: {accuracy * 100:.2f}%')\n",
    "\n",
    "# Detailed classification report\n",
    "print(\"Classification Report:\")\n",
    "print(classification_report(y_test, y_pred))"
   ]
  },
  {
   "cell_type": "markdown",
   "id": "e9008283-1108-44c2-8e8d-7433db4c2e62",
   "metadata": {},
   "source": [
    "* TF-IDF: This converts text data into numerical features based on how often words appear in each document, relative to their frequency across all documents.\n",
    "* Multinomial Naive Bayes: It is well-suited for text classification tasks where features represent frequencies or probabilities, like in TF-IDF vectors.\n",
    "* Accuracy: 82.25%"
   ]
  },
  {
   "cell_type": "markdown",
   "id": "610fca05-cd2b-42aa-ba37-55254122aaa7",
   "metadata": {},
   "source": [
    "### 3. Sentiment Analysis\n",
    "* Choose a suitable library or method for performing sentiment analysis on the blog post texts.\n",
    "* \tAnalyze the sentiments expressed in the blog posts and categorize them as positive, negative, or neutral. Consider only the Data column and get the sentiment for each blog\n",
    "* •\tExamine the distribution of sentiments across different categories and summarize your findings.\r\n"
   ]
  },
  {
   "cell_type": "code",
   "execution_count": 86,
   "id": "06983dfe-702a-43b4-a6b3-6aa7b47ae028",
   "metadata": {},
   "outputs": [
    {
     "name": "stderr",
     "output_type": "stream",
     "text": [
      "[nltk_data] Downloading package vader_lexicon to\n",
      "[nltk_data]     C:\\Users\\Akshata\\AppData\\Roaming\\nltk_data...\n",
      "[nltk_data]   Package vader_lexicon is already up-to-date!\n"
     ]
    }
   ],
   "source": [
    "#import libraries for sentiment Analyze\n",
    "import pandas as pd\n",
    "from nltk.sentiment import SentimentIntensityAnalyzer\n",
    "import nltk\n",
    "\n",
    "#download the VADER lexicon\n",
    "nltk.download('vader_lexicon')\n",
    "\n",
    "#Initialize the VADER sentiment analyser\n",
    "sia=SentimentIntensityAnalyzer()"
   ]
  },
  {
   "cell_type": "code",
   "execution_count": 92,
   "id": "778d6d87-412f-411f-ae17-c902ca958e5b",
   "metadata": {},
   "outputs": [],
   "source": [
    "#We can use VADER to analyze the sentiment of each blog post in the Data column and classify it as positive, negative,\n",
    "#or neutral based on the compound score.\n",
    "def get_senti(score):\n",
    "    if score >= 0.05:\n",
    "        return 'positive'\n",
    "    elif score >= -0.05:\n",
    "        return 'negative'\n",
    "    else:\n",
    "        return 'neutral'\n",
    "\n",
    "#apply VEDAR sentiment analyze to the data column\n",
    "df['sentiment_scores']=df['Data'].apply(lambda text: sia.polarity_scores(text)['compound'])\n",
    "df['sentiment']=df['sentiment_scores'].apply(get_senti)"
   ]
  },
  {
   "cell_type": "code",
   "execution_count": 94,
   "id": "a153b2dd-0b59-47ab-a353-d921453528e0",
   "metadata": {},
   "outputs": [
    {
     "name": "stdout",
     "output_type": "stream",
     "text": [
      "sentiment                 negative  neutral  positive\n",
      "Labels                                               \n",
      "alt.atheism                    1.0     42.0      57.0\n",
      "comp.graphics                  4.0     13.0      83.0\n",
      "comp.os.ms-windows.misc        2.0     24.0      74.0\n",
      "comp.sys.ibm.pc.hardware       0.0     21.0      79.0\n",
      "comp.sys.mac.hardware          3.0     24.0      73.0\n",
      "comp.windows.x                 2.0     20.0      78.0\n",
      "misc.forsale                   8.0      7.0      85.0\n",
      "rec.autos                      1.0     27.0      72.0\n",
      "rec.motorcycles                2.0     30.0      68.0\n",
      "rec.sport.baseball             1.0     27.0      72.0\n",
      "rec.sport.hockey               1.0     28.0      71.0\n",
      "sci.crypt                      0.0     29.0      71.0\n",
      "sci.electronics                4.0     18.0      78.0\n",
      "sci.med                        1.0     38.0      61.0\n",
      "sci.space                      3.0     32.0      65.0\n",
      "soc.religion.christian         0.0     29.0      71.0\n",
      "talk.politics.guns             2.0     67.0      31.0\n",
      "talk.politics.mideast          0.0     69.0      31.0\n",
      "talk.politics.misc             0.0     50.0      50.0\n",
      "talk.religion.misc             0.0     36.0      64.0\n"
     ]
    }
   ],
   "source": [
    "#After calculating the sentiment for each blog, we can analyze how sentiments are distributed \n",
    "#across the different categories:\n",
    "\n",
    "# Group by Category and Sentiment to see the distribution\n",
    "sentiment_distribution = df.groupby(['Labels', 'sentiment']).size().unstack().fillna(0)\n",
    "\n",
    "# Print the distribution\n",
    "print(sentiment_distribution)\n"
   ]
  },
  {
   "cell_type": "code",
   "execution_count": 96,
   "id": "ae732a94-7a6d-491f-95fe-c93d633efd81",
   "metadata": {},
   "outputs": [
    {
     "data": {
      "image/png": "[encoded data removed]",
      "text/plain": [
       "<Figure size 1000x800 with 1 Axes>"
      ]
     },
     "metadata": {},
     "output_type": "display_data"
    }
   ],
   "source": [
    "#To get a clearer understanding, you can visualize the distribution of sentiments using a bar plot:\n",
    "\n",
    "import matplotlib.pyplot as plt\n",
    "\n",
    "#plot sentimental distribution across categories\n",
    "sentiment_distribution.plot(kind='bar',stacked=True,figsize=(10,8),colormap='viridis')\n",
    "plt.title('Sentimental distribution ACross Blog categories')\n",
    "plt.xlabel('Category')\n",
    "plt.ylabel('Number of blogs')\n",
    "plt.show()\n",
    "                            "
   ]
  },
  {
   "cell_type": "markdown",
   "id": "7e605bee-a6d7-4fb7-adcf-9cfd271b5022",
   "metadata": {},
   "source": [
    "* VADER: This tool is designed to determine sentiment in short text passages. It gives a sentiment score, ranging from negative to positive.\n",
    "* Sentiment classification: Scores above 0.05 are classified as positive, below -0.05 as negative, and in between as neutral.\n",
    "* Visualization: The stacked bar chart will show how the sentiments are distributed across different blog categories, providing a clearer view of sentiment trends."
   ]
  },
  {
   "cell_type": "code",
   "execution_count": 110,
   "id": "94bec22b-eb3c-4005-9a33-1524f890ccbd",
   "metadata": {},
   "outputs": [],
   "source": [
    "from sklearn.metrics import accuracy_score,f1_score,recall_score,precision_score,classification_report\n",
    "\n",
    "#predict on the test data\n",
    "y_pred=nb_model.predict(X_test)"
   ]
  },
  {
   "cell_type": "code",
   "execution_count": 120,
   "id": "7b687059-581d-494a-b9e0-58a5b918ac4b",
   "metadata": {},
   "outputs": [
    {
     "name": "stdout",
     "output_type": "stream",
     "text": [
      "Accuarcy:0.82\n",
      "Precision:0.83\n",
      "REcall:0.82\n",
      "f1_score:0.82\n"
     ]
    }
   ],
   "source": [
    "# Calculate accuracy,precision, recall, and F1-score for each class\n",
    "accuracy=accuracy_score(y_test,y_pred)\n",
    "precision=precision_score(y_test,y_pred,average='weighted')\n",
    "recall=recall_score(y_test,y_pred,average='weighted')\n",
    "f1_score=f1_score(y_test,y_pred,average='weighted')\n",
    "\n",
    "print(f'Accuarcy:{accuracy:.2f}')\n",
    "print(f'Precision:{precision:.2f}')\n",
    "print(f'REcall:{recall:.2f}')\n",
    "print(f'f1_score:{f1_score:.2f}')\n"
   ]
  },
  {
   "cell_type": "code",
   "execution_count": 122,
   "id": "86adebcf-e980-4c34-b3a0-7df806e4c7be",
   "metadata": {},
   "outputs": [
    {
     "name": "stdout",
     "output_type": "stream",
     "text": [
      "\n",
      "Classification Report:\n",
      "                          precision    recall  f1-score   support\n",
      "\n",
      "             alt.atheism       0.52      0.83      0.64        18\n",
      "           comp.graphics       0.83      0.83      0.83        18\n",
      " comp.os.ms-windows.misc       0.86      0.82      0.84        22\n",
      "comp.sys.ibm.pc.hardware       0.73      0.76      0.75        25\n",
      "   comp.sys.mac.hardware       0.82      0.86      0.84        21\n",
      "          comp.windows.x       0.91      0.84      0.88        25\n",
      "            misc.forsale       0.78      0.78      0.78        18\n",
      "               rec.autos       0.89      0.94      0.92        18\n",
      "         rec.motorcycles       0.94      0.94      0.94        16\n",
      "      rec.sport.baseball       0.74      0.94      0.83        18\n",
      "        rec.sport.hockey       0.94      1.00      0.97        15\n",
      "               sci.crypt       0.95      0.95      0.95        19\n",
      "         sci.electronics       0.62      0.62      0.62        16\n",
      "                 sci.med       0.88      0.88      0.88        17\n",
      "               sci.space       1.00      0.81      0.89        21\n",
      "  soc.religion.christian       0.88      0.96      0.92        23\n",
      "      talk.politics.guns       0.85      0.79      0.81        28\n",
      "   talk.politics.mideast       1.00      0.95      0.97        20\n",
      "      talk.politics.misc       0.80      0.89      0.84        18\n",
      "      talk.religion.misc       0.60      0.25      0.35        24\n",
      "\n",
      "                accuracy                           0.82       400\n",
      "               macro avg       0.83      0.83      0.82       400\n",
      "            weighted avg       0.83      0.82      0.82       400\n",
      "\n"
     ]
    }
   ],
   "source": [
    "# Detailed classification report\n",
    "print(\"\\nClassification Report:\")\n",
    "print(classification_report(y_test, y_pred))"
   ]
  },
  {
   "cell_type": "markdown",
   "id": "df06b0c2-b65e-450c-9954-3054d8ca20d3",
   "metadata": {},
   "source": [
    "-- MOdel performance\n",
    "* Accuracy: This metric shows the proportion of correct predictions out of all predictions made by the model. A high accuracy indicates good overall performance  so this blog post we got 82% accuracy  this is best.\n",
    "* Precision: This metric is particularly important when the cost of false positives is high. For example, if a blog post is incorrectly classified as a certain category, it could lead to misleading conclusions. we got 83%\n",
    "* Recall: If the goal is to ensure that all posts belonging to a certain category are correctly classified, high recall is crucial. high recall= very good model\n",
    "* F1-Score: This is useful when you want a balance between precision and recall, especially when there is an uneven class distribution in the dataset."
   ]
  },
  {
   "cell_type": "markdown",
   "id": "0f36df5d-d72b-4b8b-8d19-38a2148210d3",
   "metadata": {},
   "source": [
    "-- Challenges encountered\n",
    "* Class imbalance: If some categories have fewer blog posts than others, the model may struggle to predict those minority classes accurately. This can lead to a lower recall for those classes.\n",
    "* Text preprocessing: Cleaning and preparing the text for analysis (removing stopwords, punctuation, etc.) is critical for improving classification accuracy. However, selecting the right preprocessing steps can be challenging."
   ]
  },
  {
   "cell_type": "markdown",
   "id": "30526f14-8d2f-40a7-a968-ab928ea89bd4",
   "metadata": {},
   "source": [
    "-- sentiment Analysis result\n",
    "*  By examining the distribution of sentiments within each blog category, we can gain insights into how different types of blogs (e.g., technology, health, entertainment) tend to express positive, negative, or neutral tones\n",
    "*  Implications: Understanding the general sentiment of blogs helps content creators and marketers gauge the tone of their material. If a certain category is dominated by negative sentiments, it could reflect dissatisfaction in that area, which might be actionable for the blog authors."
   ]
  },
  {
   "cell_type": "markdown",
   "id": "8a08a90d-832e-48fb-afa6-225ad0a7255a",
   "metadata": {},
   "source": [
    "-- summary\n",
    "* The Naive Bayes classifier performed reasonably well, but challenges such as class imbalance affected the model’s recall for minority categories.\n",
    "* Sentiment analysis revealed useful insights into the emotional tone of the blog content, and examining this across categories can inform future blog strategy."
   ]
  },
  {
   "cell_type": "code",
   "execution_count": null,
   "id": "38908163-634e-4e86-9848-70f6aab892e4",
   "metadata": {},
   "outputs": [],
   "source": []
  }
 ],
 "metadata": {
  "kernelspec": {
   "display_name": "Python 3 (ipykernel)",
   "language": "python",
   "name": "python3"
  },
  "language_info": {
   "codemirror_mode": {
    "name": "ipython",
    "version": 3
   },
   "file_extension": ".py",
   "mimetype": "text/x-python",
   "name": "python",
   "nbconvert_exporter": "python",
   "pygments_lexer": "ipython3",
   "version": "3.12.4"
  }
 },
 "nbformat": 4,
 "nbformat_minor": 5
}
