{
 "cells": [
  {
   "cell_type": "markdown",
   "id": "99fe77b4-dec8-44d4-8e2e-0e4cec89d59a",
   "metadata": {},
   "source": [
    "### Estimation and Confidance Intervals\n",
    "##### Background\n",
    "In quality control processes, especially when dealing with high-value items, destructive sampling is a necessary but costly method to ensure product quality. The test to determine whether an item meets the quality standards destroys the item, leading to the requirement of small sample sizes due to cost constraints.\n",
    "\n",
    "##### Scenario\n",
    "A manufacturer of print-heads for personal computers is interested in estimating the mean durability of their print-heads in terms of the number of characters printed before failure. To assess this, the manufacturer conducts a study on a small sample of print-heads due to the destructive nature of the testing process.\n",
    "\n",
    "##### Data\n",
    "A total of 15 print-heads were randomly selected and tested until failure. The durability of each print-head (in millions of characters) was recorded as follows:\n",
    "\r\n",
    "1.13, 1.55, 1.43, 0.92, 1.25, 1.36, 1.32, 0.85, 1.07, 1.48, 1.20, 1.33, 1.18, 1.22, 1.29\r\n"
   ]
  },
  {
   "cell_type": "markdown",
   "id": "d9898614-d0d6-493d-a131-9fdae6fa2785",
   "metadata": {},
   "source": [
    "##### Assignment Tasks\r",
    "a)  Build 99% Confidence Interval Using Sample Standard Deviatio\n",
    "\r\n",
    "Assuming the sample is representative of the population, construct a 99% confidence interval for the mean number of characters printed before the print-head fails using the sample standard deviation. Explain the steps you take and the rationale behind using the t-distribution for this task.\r\n"
   ]
  },
  {
   "cell_type": "code",
   "execution_count": 52,
   "id": "a81e8530-ce28-451d-bc7e-138e47fbd981",
   "metadata": {},
   "outputs": [
    {
     "name": "stdout",
     "output_type": "stream",
     "text": [
      "Sample Mean:               1.239\n",
      "Sample Standard Deviation: 0.193\n",
      "t-critical value:          2.977\n",
      "Margin of Error:           0.148\n",
      "99% Confidence Interval:   (1.0901973384384906, 1.3871359948948425)\n"
     ]
    }
   ],
   "source": [
    "import numpy as np\n",
    "import scipy.stats as stats\n",
    "from scipy.stats import ttest_1samp\n",
    "data=np.array([1.13, 1.55, 1.43, 0.92, 1.25, 1.36, 1.32, 0.85, 1.07, 1.48, 1.20, 1.33, 1.18, 1.22, 1.29])\n",
    "# find the mean\n",
    "mean=np.mean(data)\n",
    "\n",
    "# find standard deviation\n",
    "std=np.std(data,ddof=1)\n",
    "\n",
    "#find sample size\n",
    "n=len(data)\n",
    "\n",
    "#find the t-value for the 99% confidence level\n",
    "confidence = 0.99\n",
    "alpha = 1- confidence\n",
    "t_value = stats.t.ppf(1-alpha/2, df=n-1)\n",
    "\n",
    "# Calculate the Margin of Error\n",
    "margin_error = t_value * (std / np.sqrt(n))\n",
    "\n",
    "#Construct the Confidence Interval\n",
    "confidence_interval = (mean - margin_error, mean + margin_error)\n",
    "\n",
    "print(f\"Sample Mean:               {mean:.3f}\")\n",
    "print(f\"Sample Standard Deviation: {std:.3f}\")\n",
    "print(f\"t-critical value:          {t_value:.3f}\")\n",
    "print(f\"Margin of Error:           {margin_error:.3f}\")\n",
    "print(f\"99% Confidence Interval:   {confidence_interval}\")\n"
   ]
  },
  {
   "cell_type": "code",
   "execution_count": null,
   "id": "6e97388b-fc26-4b48-b3af-6c2624b7cf10",
   "metadata": {},
   "outputs": [],
   "source": []
  },
  {
   "cell_type": "markdown",
   "id": "336c3e88-4a14-4099-a21a-c349e3866da7",
   "metadata": {},
   "source": [
    "* Sample Mean: The mean is calculated by summing all values and dividing by the number of observations.\n",
    "* Sample Standard Deviation: We manually compute the variance and take its square root to get the standard deviation.\n",
    "* t-critical value: This is obtained from the t-distribution for a 99% confidence level with n−1 degrees of freedom.\n",
    "* Margin of Error: The margin of error is computed using the t-critical value, standard deviation, and sample size.\n",
    "* Confidence Interval: The final confidence interval is determined by adding and subtracting the margin of error from the sample mean.\r\n"
   ]
  },
  {
   "cell_type": "code",
   "execution_count": null,
   "id": "e943b533-e28a-4a3a-ad5e-0f4be17b9958",
   "metadata": {},
   "outputs": [],
   "source": []
  },
  {
   "cell_type": "markdown",
   "id": "2f572079-748a-47cf-9594-f761b0acaab2",
   "metadata": {},
   "source": [
    "b. Build 99% Confidence Interval Using Known Population Standard Deviation\n",
    "\n",
    "   If it were known that the population standard deviation is 0.2 million characters, construct a 99% confidence interval for the mean number of characters printed before failure.\n"
   ]
  },
  {
   "cell_type": "code",
   "execution_count": 54,
   "id": "0e657c94-ce6e-42da-9782-895ff05d4884",
   "metadata": {},
   "outputs": [
    {
     "name": "stdout",
     "output_type": "stream",
     "text": [
      "Sample Mean:               1.239\n",
      "Population Standard Deviation: 0.200\n",
      "Z-critical value:          2.576\n",
      "Margin of Error:           0.133\n",
      "99% Confidence Interval:   (1.1056514133957607, 1.3716819199375725)\n"
     ]
    }
   ],
   "source": [
    "import numpy as np\n",
    "import scipy.stats as stats\n",
    "\n",
    "# Given data\n",
    "data = np.array([1.13, 1.55, 1.43, 0.92, 1.25, 1.36, 1.32, 0.85, 1.07, 1.48, 1.20, 1.33, 1.18, 1.22, 1.29])\n",
    "\n",
    "#  Calculate the sample mean\n",
    "mean = np.mean(data)\n",
    "\n",
    "# Given population standard deviation\n",
    "std = 0.2  # Known population standard deviation\n",
    "\n",
    "# Sample size\n",
    "n = len(data)\n",
    "\n",
    "#  Find the Z-critical value for 99% confidence level\n",
    "confidence = 0.99\n",
    "alpha = 1 - confidence\n",
    "z_value = stats.norm.ppf(1 - alpha / 2)\n",
    "\n",
    "# Calculate the Margin of Error\n",
    "margin_error = z_value * (std / np.sqrt(n))\n",
    "\n",
    "#  Construct the Confidence Interval\n",
    "confidence_interval = (mean - margin_error, mean + margin_error)\n",
    "\n",
    "# Output results\n",
    "print(f\"Sample Mean:               {mean:.3f}\")\n",
    "print(f\"Population Standard Deviation: {std:.3f}\")\n",
    "print(f\"Z-critical value:          {z_value:.3f}\")\n",
    "print(f\"Margin of Error:           {margin_error:.3f}\")\n",
    "print(f\"99% Confidence Interval:   {confidence_interval}\")\n",
    "\n",
    "\n"
   ]
  },
  {
   "cell_type": "code",
   "execution_count": null,
   "id": "8ab79783-4c67-4b14-b11d-eaf381e9ba43",
   "metadata": {},
   "outputs": [],
   "source": []
  },
  {
   "cell_type": "markdown",
   "id": "0802c360-b3de-48bf-91e0-a5b90767f11b",
   "metadata": {},
   "source": [
    "* Z-critical value: We find the critical Z-value for a 99% confidence interval.\n",
    "* Margin of Error: Calculated using the Z-critical value and the known population standard deviation.\n",
    "* Confidence Interval: The final result gives the range in which we are 99% confident the true mean durability of the print-heads lies."
   ]
  },
  {
   "cell_type": "code",
   "execution_count": null,
   "id": "2cdf0d45-7e16-4163-bdec-d0f7576e355a",
   "metadata": {},
   "outputs": [],
   "source": []
  }
 ],
 "metadata": {
  "kernelspec": {
   "display_name": "Python 3 (ipykernel)",
   "language": "python",
   "name": "python3"
  },
  "language_info": {
   "codemirror_mode": {
    "name": "ipython",
    "version": 3
   },
   "file_extension": ".py",
   "mimetype": "text/x-python",
   "name": "python",
   "nbconvert_exporter": "python",
   "pygments_lexer": "ipython3",
   "version": "3.12.4"
  }
 },
 "nbformat": 4,
 "nbformat_minor": 5
}
