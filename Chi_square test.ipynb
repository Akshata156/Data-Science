{
 "cells": [
  {
   "cell_type": "markdown",
   "id": "b4be2a85-24c7-4881-adfc-b9a71c74230f",
   "metadata": {},
   "source": [
    "### CHI-SQUARE TEST\n",
    "##### Association between Device Type and Customer Satisfaction\n",
    "1. background:\n",
    " \n",
    " Mizzare Corporation has collected data on customer satisfaction levels for two types of smart home devices: Smart Thermostats and Smart Lights. They want to determine if there's a significant association between the type of device purchased and the customer's satisfaction level."
   ]
  },
  {
   "cell_type": "markdown",
   "id": "4a159b6c-e70b-4904-80a7-5f95691ef932",
   "metadata": {},
   "source": [
    "2.Objective:\r\n",
    "To use the Chi-Square test for independence to determine if there's a significant association between the type of smart home device purchased (Smart Thermostats vs. Smart Lights) and the customer satisfaction level.\r\n"
   ]
  },
  {
   "cell_type": "markdown",
   "id": "ca0f1bc3-648d-4114-b3af-b4dd8800521c",
   "metadata": {},
   "source": [
    "###### Assignment Tasks:1\n",
    "1.  State theHypothesis:\n",
    "2. compute the chi-sqaure statistic:\n",
    "3. determine the critucal value:\n",
    "Using the significance level (alpha) of 0.05 and the degrees of freedom (which is the number of categories minus 1)\n",
    "4. make a dicision:\n",
    "hesis.\r\n"
   ]
  },
  {
   "cell_type": "markdown",
   "id": "2fbdf194-cbd2-4dc4-a7d4-7060250efd0b",
   "metadata": {},
   "source": [
    "* \n",
    "Null Hypothesis (H0): It states that there is no relation between the variables (customer satisfaction level and smart home device) whereas Alternate Hypothesis (H1): It states that there is a significant relationship between the two variables\n",
    "\n",
    "* \n",
    "Now, we will verify our hypothesis using Chi-Square value (χ2 ). If our calculated value of χ2 <= critical value of χ2 , then we will accept our null hypothesis (H0). So, first let's calculate the value of χ\n",
    "\n",
    "* \n",
    "Calculate the value of χ2 : In scipy library, there is a sublibrary stats which is having a function chi2_contingency => this function will calculate the value of χ2 χ2."
   ]
  },
  {
   "cell_type": "code",
   "execution_count": 14,
   "id": "583bafe2-8c52-4e9d-a185-06322627a92c",
   "metadata": {},
   "outputs": [
    {
     "data": {
      "text/plain": [
       "[[50, 70], [80, 100], [60, 90], [30, 50], [20, 50]]"
      ]
     },
     "execution_count": 14,
     "metadata": {},
     "output_type": "execute_result"
    }
   ],
   "source": [
    "#required libraries\n",
    "from scipy import stats\n",
    "\n",
    "#load the data \n",
    "data=[[50,70],[80,100],[60,90],[30,50],[20,50]]\n",
    "\n",
    "data"
   ]
  },
  {
   "cell_type": "code",
   "execution_count": 24,
   "id": "46134fdb-d41f-488b-89b7-48c844d46b68",
   "metadata": {},
   "outputs": [],
   "source": [
    "#this function will take contingency table as input and it return a tuple having value of χ2 , p-value,degrees of freedom,expected values table\n",
    "x=stats.chi2_contingency(data)"
   ]
  },
  {
   "cell_type": "code",
   "execution_count": 26,
   "id": "cdf0fea5-3a40-405a-8f35-1b2ac5104abf",
   "metadata": {},
   "outputs": [
    {
     "data": {
      "text/plain": [
       "Chi2ContingencyResult(statistic=5.638227513227513, pvalue=0.22784371130697179, dof=4, expected_freq=array([[ 48.,  72.],\n",
       "       [ 72., 108.],\n",
       "       [ 60.,  90.],\n",
       "       [ 32.,  48.],\n",
       "       [ 28.,  42.]]))"
      ]
     },
     "execution_count": 26,
     "metadata": {},
     "output_type": "execute_result"
    }
   ],
   "source": [
    "x"
   ]
  },
  {
   "cell_type": "markdown",
   "id": "aa83fab4-0839-42ef-b729-d009c043b877",
   "metadata": {},
   "source": [
    "* it shows Calculated value of χ2 = 5.63, p-value(probability)=0.227, degree of freedom = 4, and then expected values table\n",
    "*  Now, to determine critical value of χ2 , refer to Chi-Square distribution table with degree of freedom =4 and alpha = 0.05. critical value of χ2 = 9.488. Since, our calculated value of χ2 <= critical value of χ2 , therefore, we will accept our null hypothesis (H0) i.e. there is no relation between the variables (customer satisfaction level and smart home device)\n",
    "*  \n",
    "We can also use p-value to verify our hypothesis. If p-value > level of significance (alpha) => then we will accept our null hypothesis. Since, p-value = 0.227 > alpha, therefore, we will accept our null hypothesis (H0) i.e. there is no relation between the variables (customer satisfaction level and smart home device)"
   ]
  },
  {
   "cell_type": "code",
   "execution_count": 34,
   "id": "243b9cf9-4bd5-44db-ab6b-ce647a255058",
   "metadata": {},
   "outputs": [
    {
     "name": "stdout",
     "output_type": "stream",
     "text": [
      "Calculated value of Chi-sqaure: 5.638227513227513\n",
      "p-value: 0.22784371130697179\n",
      "Degree of freedom: 4\n",
      "Expected value Table: [[ 48.  72.]\n",
      " [ 72. 108.]\n",
      " [ 60.  90.]\n",
      " [ 32.  48.]\n",
      " [ 28.  42.]]\n"
     ]
    }
   ],
   "source": [
    "#code for above explanation\n",
    "\n",
    "import numpy as np\n",
    "from scipy.stats import chi2_contingency\n",
    "from scipy.stats import chisquare\n",
    "\n",
    "#perform the chi-square test\n",
    "chisquare_stat,p,dof,expected = stats.chi2_contingency(data)\n",
    "print('Calculated value of Chi-sqaure:',chisquare_stat)\n",
    "print('p-value:',p)\n",
    "print('Degree of freedom:',dof)\n",
    "print('Expected value Table:',expected)"
   ]
  },
  {
   "cell_type": "code",
   "execution_count": 36,
   "id": "f3d76b52-b7e7-450d-86fa-9190e08087d7",
   "metadata": {},
   "outputs": [],
   "source": [
    "alpha=0.05"
   ]
  },
  {
   "cell_type": "code",
   "execution_count": null,
   "id": "413273b3-1b2b-4b0e-9c6c-f40ac8fbab58",
   "metadata": {},
   "outputs": [],
   "source": [
    "if p<=alpha:\n",
    "    print('Null hyp"
   ]
  }
 ],
 "metadata": {
  "kernelspec": {
   "display_name": "Python 3 (ipykernel)",
   "language": "python",
   "name": "python3"
  },
  "language_info": {
   "codemirror_mode": {
    "name": "ipython",
    "version": 3
   },
   "file_extension": ".py",
   "mimetype": "text/x-python",
   "name": "python",
   "nbconvert_exporter": "python",
   "pygments_lexer": "ipython3",
   "version": "3.12.4"
  }
 },
 "nbformat": 4,
 "nbformat_minor": 5
}
